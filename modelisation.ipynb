{
 "cells": [
  {
   "cell_type": "code",
   "execution_count": 3,
   "metadata": {},
   "outputs": [],
   "source": [
    "import pandas as pd\n",
    "import numpy as np\n",
    "from sklearn.model_selection import train_test_split\n",
    "from sklearn.metrics import accuracy_score,precision_score, recall_score, f1_score, confusion_matrix, r2_score, mean_squared_error\n",
    "from  comprendre_api.Clean_donnees import liste_propre\n",
    "from sklearn.preprocessing import OneHotEncoder\n",
    "import xgboost as xgb\n"
   ]
  },
  {
   "cell_type": "code",
   "execution_count": 4,
   "metadata": {},
   "outputs": [
    {
     "data": {
      "text/html": [
       "<div>\n",
       "<style scoped>\n",
       "    .dataframe tbody tr th:only-of-type {\n",
       "        vertical-align: middle;\n",
       "    }\n",
       "\n",
       "    .dataframe tbody tr th {\n",
       "        vertical-align: top;\n",
       "    }\n",
       "\n",
       "    .dataframe thead th {\n",
       "        text-align: right;\n",
       "    }\n",
       "</style>\n",
       "<table border=\"1\" class=\"dataframe\">\n",
       "  <thead>\n",
       "    <tr style=\"text-align: right;\">\n",
       "      <th></th>\n",
       "      <th>_id</th>\n",
       "      <th>consommation_energie</th>\n",
       "      <th>classe_consommation_energie</th>\n",
       "      <th>estimation_ges</th>\n",
       "      <th>surface_thermique_lot</th>\n",
       "      <th>classe_estimation_ges</th>\n",
       "      <th>annee_construction</th>\n",
       "      <th>tr002_type_batiment_description</th>\n",
       "      <th>code_insee_commune_actualise</th>\n",
       "      <th>geo_adresse</th>\n",
       "      <th>consommation_surface_ratio</th>\n",
       "    </tr>\n",
       "  </thead>\n",
       "  <tbody>\n",
       "    <tr>\n",
       "      <th>0</th>\n",
       "      <td>WRYV9xQCjLUgZ4MAK3wKu</td>\n",
       "      <td>132.0</td>\n",
       "      <td>3.0</td>\n",
       "      <td>29.0</td>\n",
       "      <td>190.0</td>\n",
       "      <td>4.0</td>\n",
       "      <td>5200.0</td>\n",
       "      <td>Maison Individuelle</td>\n",
       "      <td>01430</td>\n",
       "      <td>3 Impasse du Foyer Rural 01160 Varambon</td>\n",
       "      <td>0.694737</td>\n",
       "    </tr>\n",
       "    <tr>\n",
       "      <th>1</th>\n",
       "      <td>y54XQHgRuWB5L1wiVTGJ4</td>\n",
       "      <td>221.0</td>\n",
       "      <td>4.0</td>\n",
       "      <td>3.0</td>\n",
       "      <td>78.2</td>\n",
       "      <td>1.0</td>\n",
       "      <td>2006.0</td>\n",
       "      <td>Logement</td>\n",
       "      <td>05120</td>\n",
       "      <td>Rue de la Bluette 05460 Abriès-Ristolas</td>\n",
       "      <td>2.826087</td>\n",
       "    </tr>\n",
       "  </tbody>\n",
       "</table>\n",
       "</div>"
      ],
      "text/plain": [
       "                     _id  consommation_energie  classe_consommation_energie  \\\n",
       "0  WRYV9xQCjLUgZ4MAK3wKu                 132.0                          3.0   \n",
       "1  y54XQHgRuWB5L1wiVTGJ4                 221.0                          4.0   \n",
       "\n",
       "   estimation_ges  surface_thermique_lot  classe_estimation_ges  \\\n",
       "0            29.0                  190.0                    4.0   \n",
       "1             3.0                   78.2                    1.0   \n",
       "\n",
       "   annee_construction tr002_type_batiment_description  \\\n",
       "0              5200.0             Maison Individuelle   \n",
       "1              2006.0                        Logement   \n",
       "\n",
       "  code_insee_commune_actualise                              geo_adresse  \\\n",
       "0                        01430  3 Impasse du Foyer Rural 01160 Varambon   \n",
       "1                        05120  Rue de la Bluette 05460 Abriès-Ristolas   \n",
       "\n",
       "   consommation_surface_ratio  \n",
       "0                    0.694737  \n",
       "1                    2.826087  "
      ]
     },
     "execution_count": 4,
     "metadata": {},
     "output_type": "execute_result"
    }
   ],
   "source": [
    "data = pd.concat([liste_propre(code_commune=None, taille_echantillon=10000)],\n",
    "                axis=0, \n",
    "                ignore_index=True)\n",
    "data.head(2)"
   ]
  },
  {
   "cell_type": "code",
   "execution_count": 5,
   "metadata": {},
   "outputs": [
    {
     "data": {
      "text/plain": [
       "(4415, 11)"
      ]
     },
     "execution_count": 5,
     "metadata": {},
     "output_type": "execute_result"
    }
   ],
   "source": [
    "data.shape"
   ]
  },
  {
   "cell_type": "code",
   "execution_count": 6,
   "metadata": {},
   "outputs": [
    {
     "data": {
      "text/plain": [
       "_id                                0\n",
       "consommation_energie               0\n",
       "classe_consommation_energie        0\n",
       "estimation_ges                     0\n",
       "surface_thermique_lot              0\n",
       "classe_estimation_ges              0\n",
       "annee_construction                 0\n",
       "tr002_type_batiment_description    0\n",
       "code_insee_commune_actualise       0\n",
       "geo_adresse                        0\n",
       "consommation_surface_ratio         0\n",
       "dtype: int64"
      ]
     },
     "execution_count": 6,
     "metadata": {},
     "output_type": "execute_result"
    }
   ],
   "source": [
    "data.isna().sum()"
   ]
  },
  {
   "cell_type": "code",
   "execution_count": 7,
   "metadata": {},
   "outputs": [
    {
     "data": {
      "text/plain": [
       "(4415, 11)"
      ]
     },
     "execution_count": 7,
     "metadata": {},
     "output_type": "execute_result"
    }
   ],
   "source": [
    "data.dropna(inplace=True)\n",
    "data.shape"
   ]
  },
  {
   "cell_type": "code",
   "execution_count": 8,
   "metadata": {},
   "outputs": [
    {
     "data": {
      "text/plain": [
       "geo_adresse\n",
       "Rue du Général de Gaulle (Pont) Saint-Sébastien-sur-Loire    19\n",
       "Hameau des Rossignols 16000 Angoulême                        14\n",
       "11bis Rue des Vannes 10800 Saint-Julien-les-Villas           13\n",
       "1 Rue de la République 10150 Creney-près-Troyes              11\n",
       "15 Rue Dainville 49000 Angers                                10\n",
       "                                                             ..\n",
       "2 Chemin des Corvées 10150 Lavau                              1\n",
       "Rue Sainte Radegonde 14400 Subles                             1\n",
       "10 Rue Marie Marvingt 15000 Aurillac                          1\n",
       "Impasse du Puits 16220 Rouzède                                1\n",
       "le champ des granges 16120 Mosnac-Saint-Simeux                1\n",
       "Name: count, Length: 3975, dtype: int64"
      ]
     },
     "execution_count": 8,
     "metadata": {},
     "output_type": "execute_result"
    }
   ],
   "source": [
    "data['geo_adresse'].value_counts()"
   ]
  },
  {
   "cell_type": "code",
   "execution_count": 9,
   "metadata": {},
   "outputs": [
    {
     "name": "stdout",
     "output_type": "stream",
     "text": [
      "Duplicate Rows:\n",
      "Empty DataFrame\n",
      "Columns: [_id, consommation_energie, classe_consommation_energie, estimation_ges, surface_thermique_lot, classe_estimation_ges, annee_construction, tr002_type_batiment_description, code_insee_commune_actualise, geo_adresse, consommation_surface_ratio]\n",
      "Index: []\n",
      "Number of Duplicate Rows: 0\n"
     ]
    }
   ],
   "source": [
    "duplicate_rows = data.duplicated(keep='first')\n",
    "\n",
    "# Display rows with duplicates\n",
    "duplicates_df = data[duplicate_rows]\n",
    "print(\"Duplicate Rows:\")\n",
    "print(duplicates_df)\n",
    "\n",
    "# Count the number of duplicates\n",
    "num_duplicates = duplicate_rows.sum()\n",
    "print(f\"Number of Duplicate Rows: {num_duplicates}\")"
   ]
  },
  {
   "cell_type": "code",
   "execution_count": 10,
   "metadata": {},
   "outputs": [
    {
     "name": "stdout",
     "output_type": "stream",
     "text": [
      "<class 'pandas.core.frame.DataFrame'>\n",
      "RangeIndex: 4415 entries, 0 to 4414\n",
      "Data columns (total 11 columns):\n",
      " #   Column                           Non-Null Count  Dtype  \n",
      "---  ------                           --------------  -----  \n",
      " 0   _id                              4415 non-null   object \n",
      " 1   consommation_energie             4415 non-null   float64\n",
      " 2   classe_consommation_energie      4415 non-null   float64\n",
      " 3   estimation_ges                   4415 non-null   float64\n",
      " 4   surface_thermique_lot            4415 non-null   float64\n",
      " 5   classe_estimation_ges            4415 non-null   float64\n",
      " 6   annee_construction               4415 non-null   float64\n",
      " 7   tr002_type_batiment_description  4415 non-null   object \n",
      " 8   code_insee_commune_actualise     4415 non-null   object \n",
      " 9   geo_adresse                      4415 non-null   object \n",
      " 10  consommation_surface_ratio       4415 non-null   float64\n",
      "dtypes: float64(7), object(4)\n",
      "memory usage: 379.5+ KB\n"
     ]
    }
   ],
   "source": [
    "data.info()"
   ]
  },
  {
   "cell_type": "code",
   "execution_count": 11,
   "metadata": {},
   "outputs": [],
   "source": [
    "data['departement']=data['code_insee_commune_actualise'].astype(str).str[:2]\n",
    "data['departement'] = data['departement'].apply(lambda x: int(x) if x.isnumeric() else int(x[0]))"
   ]
  },
  {
   "cell_type": "code",
   "execution_count": 12,
   "metadata": {},
   "outputs": [
    {
     "name": "stderr",
     "output_type": "stream",
     "text": [
      "/Users/eudeslocqueville/Documents/ENSAE/M1_S1/PYTHON/projet_python/env/lib/python3.9/site-packages/sklearn/preprocessing/_encoders.py:975: FutureWarning: `sparse` was renamed to `sparse_output` in version 1.2 and will be removed in 1.4. `sparse_output` is ignored unless you leave `sparse` to its default value.\n",
      "  warnings.warn(\n",
      "/Users/eudeslocqueville/Documents/ENSAE/M1_S1/PYTHON/projet_python/env/lib/python3.9/site-packages/sklearn/preprocessing/_encoders.py:975: FutureWarning: `sparse` was renamed to `sparse_output` in version 1.2 and will be removed in 1.4. `sparse_output` is ignored unless you leave `sparse` to its default value.\n",
      "  warnings.warn(\n"
     ]
    },
    {
     "data": {
      "text/html": [
       "<div>\n",
       "<style scoped>\n",
       "    .dataframe tbody tr th:only-of-type {\n",
       "        vertical-align: middle;\n",
       "    }\n",
       "\n",
       "    .dataframe tbody tr th {\n",
       "        vertical-align: top;\n",
       "    }\n",
       "\n",
       "    .dataframe thead th {\n",
       "        text-align: right;\n",
       "    }\n",
       "</style>\n",
       "<table border=\"1\" class=\"dataframe\">\n",
       "  <thead>\n",
       "    <tr style=\"text-align: right;\">\n",
       "      <th></th>\n",
       "      <th>consommation_energie</th>\n",
       "      <th>classe_consommation_energie</th>\n",
       "      <th>estimation_ges</th>\n",
       "      <th>surface_thermique_lot</th>\n",
       "      <th>classe_estimation_ges</th>\n",
       "      <th>annee_construction</th>\n",
       "      <th>consommation_surface_ratio</th>\n",
       "      <th>tr002_type_batiment_description_Logement</th>\n",
       "      <th>tr002_type_batiment_description_Maison Individuelle</th>\n",
       "      <th>departement_2</th>\n",
       "      <th>...</th>\n",
       "      <th>departement_86</th>\n",
       "      <th>departement_87</th>\n",
       "      <th>departement_88</th>\n",
       "      <th>departement_89</th>\n",
       "      <th>departement_90</th>\n",
       "      <th>departement_91</th>\n",
       "      <th>departement_92</th>\n",
       "      <th>departement_93</th>\n",
       "      <th>departement_94</th>\n",
       "      <th>departement_95</th>\n",
       "    </tr>\n",
       "  </thead>\n",
       "  <tbody>\n",
       "    <tr>\n",
       "      <th>0</th>\n",
       "      <td>132.0</td>\n",
       "      <td>3.0</td>\n",
       "      <td>29.0</td>\n",
       "      <td>190.0</td>\n",
       "      <td>4.0</td>\n",
       "      <td>5200.0</td>\n",
       "      <td>0.694737</td>\n",
       "      <td>0.0</td>\n",
       "      <td>1.0</td>\n",
       "      <td>0.0</td>\n",
       "      <td>...</td>\n",
       "      <td>0.0</td>\n",
       "      <td>0.0</td>\n",
       "      <td>0.0</td>\n",
       "      <td>0.0</td>\n",
       "      <td>0.0</td>\n",
       "      <td>0.0</td>\n",
       "      <td>0.0</td>\n",
       "      <td>0.0</td>\n",
       "      <td>0.0</td>\n",
       "      <td>0.0</td>\n",
       "    </tr>\n",
       "    <tr>\n",
       "      <th>1</th>\n",
       "      <td>221.0</td>\n",
       "      <td>4.0</td>\n",
       "      <td>3.0</td>\n",
       "      <td>78.2</td>\n",
       "      <td>1.0</td>\n",
       "      <td>2006.0</td>\n",
       "      <td>2.826087</td>\n",
       "      <td>1.0</td>\n",
       "      <td>0.0</td>\n",
       "      <td>0.0</td>\n",
       "      <td>...</td>\n",
       "      <td>0.0</td>\n",
       "      <td>0.0</td>\n",
       "      <td>0.0</td>\n",
       "      <td>0.0</td>\n",
       "      <td>0.0</td>\n",
       "      <td>0.0</td>\n",
       "      <td>0.0</td>\n",
       "      <td>0.0</td>\n",
       "      <td>0.0</td>\n",
       "      <td>0.0</td>\n",
       "    </tr>\n",
       "  </tbody>\n",
       "</table>\n",
       "<p>2 rows × 103 columns</p>\n",
       "</div>"
      ],
      "text/plain": [
       "   consommation_energie  classe_consommation_energie  estimation_ges  \\\n",
       "0                 132.0                          3.0            29.0   \n",
       "1                 221.0                          4.0             3.0   \n",
       "\n",
       "   surface_thermique_lot  classe_estimation_ges  annee_construction  \\\n",
       "0                  190.0                    4.0              5200.0   \n",
       "1                   78.2                    1.0              2006.0   \n",
       "\n",
       "   consommation_surface_ratio  tr002_type_batiment_description_Logement  \\\n",
       "0                    0.694737                                       0.0   \n",
       "1                    2.826087                                       1.0   \n",
       "\n",
       "   tr002_type_batiment_description_Maison Individuelle  departement_2  ...  \\\n",
       "0                                                1.0              0.0  ...   \n",
       "1                                                0.0              0.0  ...   \n",
       "\n",
       "   departement_86  departement_87  departement_88  departement_89  \\\n",
       "0             0.0             0.0             0.0             0.0   \n",
       "1             0.0             0.0             0.0             0.0   \n",
       "\n",
       "   departement_90  departement_91  departement_92  departement_93  \\\n",
       "0             0.0             0.0             0.0             0.0   \n",
       "1             0.0             0.0             0.0             0.0   \n",
       "\n",
       "   departement_94  departement_95  \n",
       "0             0.0             0.0  \n",
       "1             0.0             0.0  \n",
       "\n",
       "[2 rows x 103 columns]"
      ]
     },
     "execution_count": 12,
     "metadata": {},
     "output_type": "execute_result"
    }
   ],
   "source": [
    "encoder = OneHotEncoder(sparse=False, drop='first')\n",
    "building_type_encoded = pd.DataFrame(\n",
    "    encoder.fit_transform(data[['tr002_type_batiment_description']]), \n",
    "    columns=encoder.get_feature_names_out(['tr002_type_batiment_description'])\n",
    "    )\n",
    "data_reg = pd.concat([data, building_type_encoded], axis=1)\n",
    "\n",
    "zip_code_encoded = pd.DataFrame(\n",
    "    encoder.fit_transform(data_reg[['departement']]), \n",
    "    columns=encoder.get_feature_names_out(['departement'])\n",
    "    )\n",
    "data_reg = pd.concat([data_reg, zip_code_encoded], axis=1)\n",
    "\n",
    "# Step 2: Drop the original zip_code column\n",
    "data_reg  = data_reg .drop(['tr002_type_batiment_description',\n",
    "                            'code_insee_commune_actualise',\n",
    "                            'geo_adresse',\n",
    "                            '_id',\n",
    "                            'departement'], \n",
    "                            axis=1)\n",
    "\n",
    "data_reg.head(2)\n"
   ]
  },
  {
   "cell_type": "code",
   "execution_count": 13,
   "metadata": {},
   "outputs": [
    {
     "data": {
      "text/plain": [
       "((3532, 102), (883, 102), (3532,), (883,))"
      ]
     },
     "execution_count": 13,
     "metadata": {},
     "output_type": "execute_result"
    }
   ],
   "source": [
    "X = data_reg.drop('classe_consommation_energie', axis=1)\n",
    "y = data_reg['classe_consommation_energie']\n",
    "\n",
    "X_train, X_test, y_train, y_test = train_test_split(X, y, test_size=0.2, random_state=42)\n",
    "\n",
    "X_train.shape, X_test.shape, y_train.shape, y_test.shape\n"
   ]
  },
  {
   "cell_type": "code",
   "execution_count": 14,
   "metadata": {},
   "outputs": [],
   "source": [
    "model = xgb.XGBRegressor()"
   ]
  },
  {
   "cell_type": "code",
   "execution_count": 15,
   "metadata": {},
   "outputs": [
    {
     "data": {
      "text/html": [
       "<style>#sk-container-id-1 {color: black;}#sk-container-id-1 pre{padding: 0;}#sk-container-id-1 div.sk-toggleable {background-color: white;}#sk-container-id-1 label.sk-toggleable__label {cursor: pointer;display: block;width: 100%;margin-bottom: 0;padding: 0.3em;box-sizing: border-box;text-align: center;}#sk-container-id-1 label.sk-toggleable__label-arrow:before {content: \"▸\";float: left;margin-right: 0.25em;color: #696969;}#sk-container-id-1 label.sk-toggleable__label-arrow:hover:before {color: black;}#sk-container-id-1 div.sk-estimator:hover label.sk-toggleable__label-arrow:before {color: black;}#sk-container-id-1 div.sk-toggleable__content {max-height: 0;max-width: 0;overflow: hidden;text-align: left;background-color: #f0f8ff;}#sk-container-id-1 div.sk-toggleable__content pre {margin: 0.2em;color: black;border-radius: 0.25em;background-color: #f0f8ff;}#sk-container-id-1 input.sk-toggleable__control:checked~div.sk-toggleable__content {max-height: 200px;max-width: 100%;overflow: auto;}#sk-container-id-1 input.sk-toggleable__control:checked~label.sk-toggleable__label-arrow:before {content: \"▾\";}#sk-container-id-1 div.sk-estimator input.sk-toggleable__control:checked~label.sk-toggleable__label {background-color: #d4ebff;}#sk-container-id-1 div.sk-label input.sk-toggleable__control:checked~label.sk-toggleable__label {background-color: #d4ebff;}#sk-container-id-1 input.sk-hidden--visually {border: 0;clip: rect(1px 1px 1px 1px);clip: rect(1px, 1px, 1px, 1px);height: 1px;margin: -1px;overflow: hidden;padding: 0;position: absolute;width: 1px;}#sk-container-id-1 div.sk-estimator {font-family: monospace;background-color: #f0f8ff;border: 1px dotted black;border-radius: 0.25em;box-sizing: border-box;margin-bottom: 0.5em;}#sk-container-id-1 div.sk-estimator:hover {background-color: #d4ebff;}#sk-container-id-1 div.sk-parallel-item::after {content: \"\";width: 100%;border-bottom: 1px solid gray;flex-grow: 1;}#sk-container-id-1 div.sk-label:hover label.sk-toggleable__label {background-color: #d4ebff;}#sk-container-id-1 div.sk-serial::before {content: \"\";position: absolute;border-left: 1px solid gray;box-sizing: border-box;top: 0;bottom: 0;left: 50%;z-index: 0;}#sk-container-id-1 div.sk-serial {display: flex;flex-direction: column;align-items: center;background-color: white;padding-right: 0.2em;padding-left: 0.2em;position: relative;}#sk-container-id-1 div.sk-item {position: relative;z-index: 1;}#sk-container-id-1 div.sk-parallel {display: flex;align-items: stretch;justify-content: center;background-color: white;position: relative;}#sk-container-id-1 div.sk-item::before, #sk-container-id-1 div.sk-parallel-item::before {content: \"\";position: absolute;border-left: 1px solid gray;box-sizing: border-box;top: 0;bottom: 0;left: 50%;z-index: -1;}#sk-container-id-1 div.sk-parallel-item {display: flex;flex-direction: column;z-index: 1;position: relative;background-color: white;}#sk-container-id-1 div.sk-parallel-item:first-child::after {align-self: flex-end;width: 50%;}#sk-container-id-1 div.sk-parallel-item:last-child::after {align-self: flex-start;width: 50%;}#sk-container-id-1 div.sk-parallel-item:only-child::after {width: 0;}#sk-container-id-1 div.sk-dashed-wrapped {border: 1px dashed gray;margin: 0 0.4em 0.5em 0.4em;box-sizing: border-box;padding-bottom: 0.4em;background-color: white;}#sk-container-id-1 div.sk-label label {font-family: monospace;font-weight: bold;display: inline-block;line-height: 1.2em;}#sk-container-id-1 div.sk-label-container {text-align: center;}#sk-container-id-1 div.sk-container {/* jupyter's `normalize.less` sets `[hidden] { display: none; }` but bootstrap.min.css set `[hidden] { display: none !important; }` so we also need the `!important` here to be able to override the default hidden behavior on the sphinx rendered scikit-learn.org. See: https://github.com/scikit-learn/scikit-learn/issues/21755 */display: inline-block !important;position: relative;}#sk-container-id-1 div.sk-text-repr-fallback {display: none;}</style><div id=\"sk-container-id-1\" class=\"sk-top-container\"><div class=\"sk-text-repr-fallback\"><pre>XGBRegressor(base_score=None, booster=None, callbacks=None,\n",
       "             colsample_bylevel=None, colsample_bynode=None,\n",
       "             colsample_bytree=None, device=None, early_stopping_rounds=None,\n",
       "             enable_categorical=False, eval_metric=None, feature_types=None,\n",
       "             gamma=None, grow_policy=None, importance_type=None,\n",
       "             interaction_constraints=None, learning_rate=None, max_bin=None,\n",
       "             max_cat_threshold=None, max_cat_to_onehot=None,\n",
       "             max_delta_step=None, max_depth=None, max_leaves=None,\n",
       "             min_child_weight=None, missing=nan, monotone_constraints=None,\n",
       "             multi_strategy=None, n_estimators=None, n_jobs=None,\n",
       "             num_parallel_tree=None, random_state=None, ...)</pre><b>In a Jupyter environment, please rerun this cell to show the HTML representation or trust the notebook. <br />On GitHub, the HTML representation is unable to render, please try loading this page with nbviewer.org.</b></div><div class=\"sk-container\" hidden><div class=\"sk-item\"><div class=\"sk-estimator sk-toggleable\"><input class=\"sk-toggleable__control sk-hidden--visually\" id=\"sk-estimator-id-1\" type=\"checkbox\" checked><label for=\"sk-estimator-id-1\" class=\"sk-toggleable__label sk-toggleable__label-arrow\">XGBRegressor</label><div class=\"sk-toggleable__content\"><pre>XGBRegressor(base_score=None, booster=None, callbacks=None,\n",
       "             colsample_bylevel=None, colsample_bynode=None,\n",
       "             colsample_bytree=None, device=None, early_stopping_rounds=None,\n",
       "             enable_categorical=False, eval_metric=None, feature_types=None,\n",
       "             gamma=None, grow_policy=None, importance_type=None,\n",
       "             interaction_constraints=None, learning_rate=None, max_bin=None,\n",
       "             max_cat_threshold=None, max_cat_to_onehot=None,\n",
       "             max_delta_step=None, max_depth=None, max_leaves=None,\n",
       "             min_child_weight=None, missing=nan, monotone_constraints=None,\n",
       "             multi_strategy=None, n_estimators=None, n_jobs=None,\n",
       "             num_parallel_tree=None, random_state=None, ...)</pre></div></div></div></div></div>"
      ],
      "text/plain": [
       "XGBRegressor(base_score=None, booster=None, callbacks=None,\n",
       "             colsample_bylevel=None, colsample_bynode=None,\n",
       "             colsample_bytree=None, device=None, early_stopping_rounds=None,\n",
       "             enable_categorical=False, eval_metric=None, feature_types=None,\n",
       "             gamma=None, grow_policy=None, importance_type=None,\n",
       "             interaction_constraints=None, learning_rate=None, max_bin=None,\n",
       "             max_cat_threshold=None, max_cat_to_onehot=None,\n",
       "             max_delta_step=None, max_depth=None, max_leaves=None,\n",
       "             min_child_weight=None, missing=nan, monotone_constraints=None,\n",
       "             multi_strategy=None, n_estimators=None, n_jobs=None,\n",
       "             num_parallel_tree=None, random_state=None, ...)"
      ]
     },
     "execution_count": 15,
     "metadata": {},
     "output_type": "execute_result"
    }
   ],
   "source": [
    "model.fit(X_train, y_train)"
   ]
  },
  {
   "cell_type": "code",
   "execution_count": 16,
   "metadata": {},
   "outputs": [
    {
     "data": {
      "text/plain": [
       "<Axes: title={'center': 'Feature importance'}, xlabel='F score', ylabel='Features'>"
      ]
     },
     "execution_count": 16,
     "metadata": {},
     "output_type": "execute_result"
    },
    {
     "data": {
      "image/png": "[encoded data removed]",
      "text/plain": [
       "<Figure size 640x480 with 1 Axes>"
      ]
     },
     "metadata": {},
     "output_type": "display_data"
    }
   ],
   "source": [
    "import matplotlib.pyplot as plt\n",
    "%matplotlib inline\n",
    "\n",
    "xgb.plot_importance(model, ax=plt.gca(), max_num_features=20)\n"
   ]
  },
  {
   "cell_type": "code",
   "execution_count": 17,
   "metadata": {},
   "outputs": [
    {
     "name": "stdout",
     "output_type": "stream",
     "text": [
      "0.9999993579576947\n",
      "9.56563068784866e-07\n"
     ]
    }
   ],
   "source": [
    "predictions = model.predict(X_test) \n",
    "pred_train = model.predict(X_train)\n",
    "print(r2_score(y_train, pred_train))\n",
    "print(mean_squared_error(y_train, pred_train))"
   ]
  },
  {
   "cell_type": "code",
   "execution_count": 18,
   "metadata": {},
   "outputs": [
    {
     "name": "stdout",
     "output_type": "stream",
     "text": [
      "0.9959516534524253\n",
      "0.0059419994326689995\n",
      "accuracy score is: 0.9932049830124575\n",
      "precision score is: 0.9660110696756659\n",
      "recall score is: 0.9523114816218265\n",
      "f1 score is: 0.9586432285076647\n",
      "[[  6   2   0   0   0   0   0]\n",
      " [  1  24   1   0   0   0   0]\n",
      " [  0   0  91   0   0   0   0]\n",
      " [  0   0   0 288   2   0   0]\n",
      " [  0   0   0   0 273   0   0]\n",
      " [  0   0   0   0   0 128   0]\n",
      " [  0   0   0   0   0   0  67]]\n"
     ]
    }
   ],
   "source": [
    "print(model.score(X_test, y_test))\n",
    "print(mean_squared_error(y_test, predictions))\n",
    "print(f\"accuracy score is: {accuracy_score(y_test, predictions.round())}\")\n",
    "print(f\"precision score is: {precision_score(y_test, predictions.round(), average='macro')}\")\n",
    "print(f\"recall score is: {recall_score(y_test, predictions.round(), average='macro')}\")\n",
    "print(f\"f1 score is: {f1_score(y_test, predictions.round(), average='macro')}\")\n",
    "print(confusion_matrix(y_test, predictions.round()))\n"
   ]
  }
 ],
 "metadata": {
  "kernelspec": {
   "display_name": "Python 3",
   "language": "python",
   "name": "python3"
  },
  "language_info": {
   "codemirror_mode": {
    "name": "ipython",
    "version": 3
   },
   "file_extension": ".py",
   "mimetype": "text/x-python",
   "name": "python",
   "nbconvert_exporter": "python",
   "pygments_lexer": "ipython3",
   "version": "3.9.7"
  }
 },
 "nbformat": 4,
 "nbformat_minor": 2
}
