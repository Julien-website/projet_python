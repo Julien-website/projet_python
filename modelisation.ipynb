{
 "cells": [
  {
   "cell_type": "code",
   "execution_count": 2,
   "metadata": {},
   "outputs": [],
   "source": [
    "import pandas as pd\n",
    "import numpy as np\n",
    "from sklearn.model_selection import train_test_split\n",
    "from sklearn.metrics import accuracy_score,precision_score, recall_score, f1_score, confusion_matrix, r2_score, mean_squared_error\n",
    "from  comprendre_api.Clean_donnees import liste_propre\n",
    "from sklearn.preprocessing import OneHotEncoder\n",
    "import xgboost as xgb\n"
   ]
  },
  {
   "cell_type": "code",
   "execution_count": 3,
   "metadata": {},
   "outputs": [
    {
     "data": {
      "text/html": [
       "<div>\n",
       "<style scoped>\n",
       "    .dataframe tbody tr th:only-of-type {\n",
       "        vertical-align: middle;\n",
       "    }\n",
       "\n",
       "    .dataframe tbody tr th {\n",
       "        vertical-align: top;\n",
       "    }\n",
       "\n",
       "    .dataframe thead th {\n",
       "        text-align: right;\n",
       "    }\n",
       "</style>\n",
       "<table border=\"1\" class=\"dataframe\">\n",
       "  <thead>\n",
       "    <tr style=\"text-align: right;\">\n",
       "      <th></th>\n",
       "      <th>_id</th>\n",
       "      <th>consommation_energie</th>\n",
       "      <th>classe_consommation_energie</th>\n",
       "      <th>estimation_ges</th>\n",
       "      <th>surface_thermique_lot</th>\n",
       "      <th>classe_estimation_ges</th>\n",
       "      <th>annee_construction</th>\n",
       "      <th>tr002_type_batiment_description</th>\n",
       "      <th>code_insee_commune_actualise</th>\n",
       "      <th>geo_adresse</th>\n",
       "      <th>latitude</th>\n",
       "      <th>longitude</th>\n",
       "      <th>consommation_surface_ratio</th>\n",
       "    </tr>\n",
       "  </thead>\n",
       "  <tbody>\n",
       "    <tr>\n",
       "      <th>0</th>\n",
       "      <td>WRYV9xQCjLUgZ4MAK3wKu</td>\n",
       "      <td>132.0</td>\n",
       "      <td>3.0</td>\n",
       "      <td>29.0</td>\n",
       "      <td>190.0</td>\n",
       "      <td>4.0</td>\n",
       "      <td>5200.0</td>\n",
       "      <td>Maison Individuelle</td>\n",
       "      <td>01430</td>\n",
       "      <td>3 Impasse du Foyer Rural 01160 Varambon</td>\n",
       "      <td>46.040911</td>\n",
       "      <td>5.317098</td>\n",
       "      <td>0.694737</td>\n",
       "    </tr>\n",
       "    <tr>\n",
       "      <th>1</th>\n",
       "      <td>y54XQHgRuWB5L1wiVTGJ4</td>\n",
       "      <td>221.0</td>\n",
       "      <td>4.0</td>\n",
       "      <td>3.0</td>\n",
       "      <td>78.2</td>\n",
       "      <td>1.0</td>\n",
       "      <td>2006.0</td>\n",
       "      <td>Logement</td>\n",
       "      <td>05120</td>\n",
       "      <td>Rue de la Bluette 05460 Abriès-Ristolas</td>\n",
       "      <td>44.773510</td>\n",
       "      <td>6.954523</td>\n",
       "      <td>2.826087</td>\n",
       "    </tr>\n",
       "  </tbody>\n",
       "</table>\n",
       "</div>"
      ],
      "text/plain": [
       "                     _id  consommation_energie  classe_consommation_energie  \\\n",
       "0  WRYV9xQCjLUgZ4MAK3wKu                 132.0                          3.0   \n",
       "1  y54XQHgRuWB5L1wiVTGJ4                 221.0                          4.0   \n",
       "\n",
       "   estimation_ges  surface_thermique_lot  classe_estimation_ges  \\\n",
       "0            29.0                  190.0                    4.0   \n",
       "1             3.0                   78.2                    1.0   \n",
       "\n",
       "   annee_construction tr002_type_batiment_description  \\\n",
       "0              5200.0             Maison Individuelle   \n",
       "1              2006.0                        Logement   \n",
       "\n",
       "  code_insee_commune_actualise                              geo_adresse  \\\n",
       "0                        01430  3 Impasse du Foyer Rural 01160 Varambon   \n",
       "1                        05120  Rue de la Bluette 05460 Abriès-Ristolas   \n",
       "\n",
       "    latitude  longitude  consommation_surface_ratio  \n",
       "0  46.040911   5.317098                    0.694737  \n",
       "1  44.773510   6.954523                    2.826087  "
      ]
     },
     "execution_count": 3,
     "metadata": {},
     "output_type": "execute_result"
    }
   ],
   "source": [
    "data = pd.concat([liste_propre(code_commune=None, taille_echantillon=10000)],\n",
    "                axis=0, \n",
    "                ignore_index=True)\n",
    "data.head(2)"
   ]
  },
  {
   "cell_type": "code",
   "execution_count": 4,
   "metadata": {},
   "outputs": [
    {
     "data": {
      "text/plain": [
       "(4415, 13)"
      ]
     },
     "execution_count": 4,
     "metadata": {},
     "output_type": "execute_result"
    }
   ],
   "source": [
    "data.shape"
   ]
  },
  {
   "cell_type": "code",
   "execution_count": 5,
   "metadata": {},
   "outputs": [
    {
     "data": {
      "text/plain": [
       "_id                                0\n",
       "consommation_energie               0\n",
       "classe_consommation_energie        0\n",
       "estimation_ges                     0\n",
       "surface_thermique_lot              0\n",
       "classe_estimation_ges              0\n",
       "annee_construction                 0\n",
       "tr002_type_batiment_description    0\n",
       "code_insee_commune_actualise       0\n",
       "geo_adresse                        0\n",
       "latitude                           0\n",
       "longitude                          0\n",
       "consommation_surface_ratio         0\n",
       "dtype: int64"
      ]
     },
     "execution_count": 5,
     "metadata": {},
     "output_type": "execute_result"
    }
   ],
   "source": [
    "data.isna().sum()"
   ]
  },
  {
   "cell_type": "code",
   "execution_count": 6,
   "metadata": {},
   "outputs": [
    {
     "data": {
      "text/plain": [
       "(4415, 13)"
      ]
     },
     "execution_count": 6,
     "metadata": {},
     "output_type": "execute_result"
    }
   ],
   "source": [
    "data.dropna(inplace=True)\n",
    "data.shape"
   ]
  },
  {
   "cell_type": "code",
   "execution_count": 7,
   "metadata": {},
   "outputs": [
    {
     "data": {
      "text/plain": [
       "geo_adresse\n",
       "Rue du Général de Gaulle (Pont) Saint-Sébastien-sur-Loire    19\n",
       "Hameau des Rossignols 16000 Angoulême                        14\n",
       "11bis Rue des Vannes 10800 Saint-Julien-les-Villas           13\n",
       "1 Rue de la République 10150 Creney-près-Troyes              11\n",
       "15 Rue Dainville 49000 Angers                                10\n",
       "                                                             ..\n",
       "2 Chemin des Corvées 10150 Lavau                              1\n",
       "Rue Sainte Radegonde 14400 Subles                             1\n",
       "10 Rue Marie Marvingt 15000 Aurillac                          1\n",
       "Impasse du Puits 16220 Rouzède                                1\n",
       "le champ des granges 16120 Mosnac-Saint-Simeux                1\n",
       "Name: count, Length: 3975, dtype: int64"
      ]
     },
     "execution_count": 7,
     "metadata": {},
     "output_type": "execute_result"
    }
   ],
   "source": [
    "data['geo_adresse'].value_counts()"
   ]
  },
  {
   "cell_type": "code",
   "execution_count": 8,
   "metadata": {},
   "outputs": [
    {
     "name": "stdout",
     "output_type": "stream",
     "text": [
      "Duplicate Rows:\n",
      "Empty DataFrame\n",
      "Columns: [_id, consommation_energie, classe_consommation_energie, estimation_ges, surface_thermique_lot, classe_estimation_ges, annee_construction, tr002_type_batiment_description, code_insee_commune_actualise, geo_adresse, latitude, longitude, consommation_surface_ratio]\n",
      "Index: []\n",
      "Number of Duplicate Rows: 0\n"
     ]
    }
   ],
   "source": [
    "duplicate_rows = data.duplicated(keep='first')\n",
    "\n",
    "# Display rows with duplicates\n",
    "duplicates_df = data[duplicate_rows]\n",
    "print(\"Duplicate Rows:\")\n",
    "print(duplicates_df)\n",
    "\n",
    "# Count the number of duplicates\n",
    "num_duplicates = duplicate_rows.sum()\n",
    "print(f\"Number of Duplicate Rows: {num_duplicates}\")"
   ]
  },
  {
   "cell_type": "code",
   "execution_count": 9,
   "metadata": {},
   "outputs": [
    {
     "name": "stdout",
     "output_type": "stream",
     "text": [
      "<class 'pandas.core.frame.DataFrame'>\n",
      "RangeIndex: 4415 entries, 0 to 4414\n",
      "Data columns (total 13 columns):\n",
      " #   Column                           Non-Null Count  Dtype  \n",
      "---  ------                           --------------  -----  \n",
      " 0   _id                              4415 non-null   object \n",
      " 1   consommation_energie             4415 non-null   float64\n",
      " 2   classe_consommation_energie      4415 non-null   float64\n",
      " 3   estimation_ges                   4415 non-null   float64\n",
      " 4   surface_thermique_lot            4415 non-null   float64\n",
      " 5   classe_estimation_ges            4415 non-null   float64\n",
      " 6   annee_construction               4415 non-null   float64\n",
      " 7   tr002_type_batiment_description  4415 non-null   object \n",
      " 8   code_insee_commune_actualise     4415 non-null   object \n",
      " 9   geo_adresse                      4415 non-null   object \n",
      " 10  latitude                         4415 non-null   float64\n",
      " 11  longitude                        4415 non-null   float64\n",
      " 12  consommation_surface_ratio       4415 non-null   float64\n",
      "dtypes: float64(9), object(4)\n",
      "memory usage: 448.5+ KB\n"
     ]
    }
   ],
   "source": [
    "data.info()"
   ]
  },
  {
   "cell_type": "code",
   "execution_count": 10,
   "metadata": {},
   "outputs": [],
   "source": [
    "data['departement']=data['code_insee_commune_actualise'].astype(str).str[:2]\n",
    "data['departement'] = data['departement'].apply(lambda x: int(x) if x.isnumeric() else int(x[0]))"
   ]
  },
  {
   "cell_type": "code",
   "execution_count": 11,
   "metadata": {},
   "outputs": [
    {
     "name": "stderr",
     "output_type": "stream",
     "text": [
      "/home/codespace/.local/lib/python3.10/site-packages/sklearn/preprocessing/_encoders.py:975: FutureWarning: `sparse` was renamed to `sparse_output` in version 1.2 and will be removed in 1.4. `sparse_output` is ignored unless you leave `sparse` to its default value.\n",
      "  warnings.warn(\n",
      "/home/codespace/.local/lib/python3.10/site-packages/sklearn/preprocessing/_encoders.py:975: FutureWarning: `sparse` was renamed to `sparse_output` in version 1.2 and will be removed in 1.4. `sparse_output` is ignored unless you leave `sparse` to its default value.\n",
      "  warnings.warn(\n"
     ]
    },
    {
     "data": {
      "text/html": [
       "<div>\n",
       "<style scoped>\n",
       "    .dataframe tbody tr th:only-of-type {\n",
       "        vertical-align: middle;\n",
       "    }\n",
       "\n",
       "    .dataframe tbody tr th {\n",
       "        vertical-align: top;\n",
       "    }\n",
       "\n",
       "    .dataframe thead th {\n",
       "        text-align: right;\n",
       "    }\n",
       "</style>\n",
       "<table border=\"1\" class=\"dataframe\">\n",
       "  <thead>\n",
       "    <tr style=\"text-align: right;\">\n",
       "      <th></th>\n",
       "      <th>consommation_energie</th>\n",
       "      <th>classe_consommation_energie</th>\n",
       "      <th>estimation_ges</th>\n",
       "      <th>surface_thermique_lot</th>\n",
       "      <th>classe_estimation_ges</th>\n",
       "      <th>annee_construction</th>\n",
       "      <th>latitude</th>\n",
       "      <th>longitude</th>\n",
       "      <th>consommation_surface_ratio</th>\n",
       "      <th>tr002_type_batiment_description_Logement</th>\n",
       "      <th>...</th>\n",
       "      <th>departement_86</th>\n",
       "      <th>departement_87</th>\n",
       "      <th>departement_88</th>\n",
       "      <th>departement_89</th>\n",
       "      <th>departement_90</th>\n",
       "      <th>departement_91</th>\n",
       "      <th>departement_92</th>\n",
       "      <th>departement_93</th>\n",
       "      <th>departement_94</th>\n",
       "      <th>departement_95</th>\n",
       "    </tr>\n",
       "  </thead>\n",
       "  <tbody>\n",
       "    <tr>\n",
       "      <th>0</th>\n",
       "      <td>132.0</td>\n",
       "      <td>3.0</td>\n",
       "      <td>29.0</td>\n",
       "      <td>190.0</td>\n",
       "      <td>4.0</td>\n",
       "      <td>5200.0</td>\n",
       "      <td>46.040911</td>\n",
       "      <td>5.317098</td>\n",
       "      <td>0.694737</td>\n",
       "      <td>0.0</td>\n",
       "      <td>...</td>\n",
       "      <td>0.0</td>\n",
       "      <td>0.0</td>\n",
       "      <td>0.0</td>\n",
       "      <td>0.0</td>\n",
       "      <td>0.0</td>\n",
       "      <td>0.0</td>\n",
       "      <td>0.0</td>\n",
       "      <td>0.0</td>\n",
       "      <td>0.0</td>\n",
       "      <td>0.0</td>\n",
       "    </tr>\n",
       "    <tr>\n",
       "      <th>1</th>\n",
       "      <td>221.0</td>\n",
       "      <td>4.0</td>\n",
       "      <td>3.0</td>\n",
       "      <td>78.2</td>\n",
       "      <td>1.0</td>\n",
       "      <td>2006.0</td>\n",
       "      <td>44.773510</td>\n",
       "      <td>6.954523</td>\n",
       "      <td>2.826087</td>\n",
       "      <td>1.0</td>\n",
       "      <td>...</td>\n",
       "      <td>0.0</td>\n",
       "      <td>0.0</td>\n",
       "      <td>0.0</td>\n",
       "      <td>0.0</td>\n",
       "      <td>0.0</td>\n",
       "      <td>0.0</td>\n",
       "      <td>0.0</td>\n",
       "      <td>0.0</td>\n",
       "      <td>0.0</td>\n",
       "      <td>0.0</td>\n",
       "    </tr>\n",
       "  </tbody>\n",
       "</table>\n",
       "<p>2 rows × 105 columns</p>\n",
       "</div>"
      ],
      "text/plain": [
       "   consommation_energie  classe_consommation_energie  estimation_ges  \\\n",
       "0                 132.0                          3.0            29.0   \n",
       "1                 221.0                          4.0             3.0   \n",
       "\n",
       "   surface_thermique_lot  classe_estimation_ges  annee_construction  \\\n",
       "0                  190.0                    4.0              5200.0   \n",
       "1                   78.2                    1.0              2006.0   \n",
       "\n",
       "    latitude  longitude  consommation_surface_ratio  \\\n",
       "0  46.040911   5.317098                    0.694737   \n",
       "1  44.773510   6.954523                    2.826087   \n",
       "\n",
       "   tr002_type_batiment_description_Logement  ...  departement_86  \\\n",
       "0                                       0.0  ...             0.0   \n",
       "1                                       1.0  ...             0.0   \n",
       "\n",
       "   departement_87  departement_88  departement_89  departement_90  \\\n",
       "0             0.0             0.0             0.0             0.0   \n",
       "1             0.0             0.0             0.0             0.0   \n",
       "\n",
       "   departement_91  departement_92  departement_93  departement_94  \\\n",
       "0             0.0             0.0             0.0             0.0   \n",
       "1             0.0             0.0             0.0             0.0   \n",
       "\n",
       "   departement_95  \n",
       "0             0.0  \n",
       "1             0.0  \n",
       "\n",
       "[2 rows x 105 columns]"
      ]
     },
     "execution_count": 11,
     "metadata": {},
     "output_type": "execute_result"
    }
   ],
   "source": [
    "encoder = OneHotEncoder(sparse=False, drop='first')\n",
    "building_type_encoded = pd.DataFrame(\n",
    "    encoder.fit_transform(data[['tr002_type_batiment_description']]), \n",
    "    columns=encoder.get_feature_names_out(['tr002_type_batiment_description'])\n",
    "    )\n",
    "data_reg = pd.concat([data, building_type_encoded], axis=1)\n",
    "\n",
    "zip_code_encoded = pd.DataFrame(\n",
    "    encoder.fit_transform(data_reg[['departement']]), \n",
    "    columns=encoder.get_feature_names_out(['departement'])\n",
    "    )\n",
    "data_reg = pd.concat([data_reg, zip_code_encoded], axis=1)\n",
    "\n",
    "# Step 2: Drop the original zip_code column\n",
    "data_reg  = data_reg .drop(['tr002_type_batiment_description',\n",
    "                            'code_insee_commune_actualise',\n",
    "                            'geo_adresse',\n",
    "                            '_id',\n",
    "                            'departement'], \n",
    "                            axis=1)\n",
    "\n",
    "data_reg.head(2)\n"
   ]
  },
  {
   "cell_type": "code",
   "execution_count": 12,
   "metadata": {},
   "outputs": [
    {
     "data": {
      "text/plain": [
       "((3532, 104), (883, 104), (3532,), (883,))"
      ]
     },
     "execution_count": 12,
     "metadata": {},
     "output_type": "execute_result"
    }
   ],
   "source": [
    "X = data_reg.drop('classe_consommation_energie', axis=1)\n",
    "y = data_reg['classe_consommation_energie']\n",
    "\n",
    "X_train, X_test, y_train, y_test = train_test_split(X, y, test_size=0.2, random_state=42)\n",
    "\n",
    "X_train.shape, X_test.shape, y_train.shape, y_test.shape\n"
   ]
  },
  {
   "cell_type": "code",
   "execution_count": 13,
   "metadata": {},
   "outputs": [],
   "source": [
    "model = xgb.XGBRegressor()"
   ]
  },
  {
   "cell_type": "code",
   "execution_count": 14,
   "metadata": {},
   "outputs": [
    {
     "data": {
      "text/html": [
       "<style>#sk-container-id-1 {color: black;}#sk-container-id-1 pre{padding: 0;}#sk-container-id-1 div.sk-toggleable {background-color: white;}#sk-container-id-1 label.sk-toggleable__label {cursor: pointer;display: block;width: 100%;margin-bottom: 0;padding: 0.3em;box-sizing: border-box;text-align: center;}#sk-container-id-1 label.sk-toggleable__label-arrow:before {content: \"▸\";float: left;margin-right: 0.25em;color: #696969;}#sk-container-id-1 label.sk-toggleable__label-arrow:hover:before {color: black;}#sk-container-id-1 div.sk-estimator:hover label.sk-toggleable__label-arrow:before {color: black;}#sk-container-id-1 div.sk-toggleable__content {max-height: 0;max-width: 0;overflow: hidden;text-align: left;background-color: #f0f8ff;}#sk-container-id-1 div.sk-toggleable__content pre {margin: 0.2em;color: black;border-radius: 0.25em;background-color: #f0f8ff;}#sk-container-id-1 input.sk-toggleable__control:checked~div.sk-toggleable__content {max-height: 200px;max-width: 100%;overflow: auto;}#sk-container-id-1 input.sk-toggleable__control:checked~label.sk-toggleable__label-arrow:before {content: \"▾\";}#sk-container-id-1 div.sk-estimator input.sk-toggleable__control:checked~label.sk-toggleable__label {background-color: #d4ebff;}#sk-container-id-1 div.sk-label input.sk-toggleable__control:checked~label.sk-toggleable__label {background-color: #d4ebff;}#sk-container-id-1 input.sk-hidden--visually {border: 0;clip: rect(1px 1px 1px 1px);clip: rect(1px, 1px, 1px, 1px);height: 1px;margin: -1px;overflow: hidden;padding: 0;position: absolute;width: 1px;}#sk-container-id-1 div.sk-estimator {font-family: monospace;background-color: #f0f8ff;border: 1px dotted black;border-radius: 0.25em;box-sizing: border-box;margin-bottom: 0.5em;}#sk-container-id-1 div.sk-estimator:hover {background-color: #d4ebff;}#sk-container-id-1 div.sk-parallel-item::after {content: \"\";width: 100%;border-bottom: 1px solid gray;flex-grow: 1;}#sk-container-id-1 div.sk-label:hover label.sk-toggleable__label {background-color: #d4ebff;}#sk-container-id-1 div.sk-serial::before {content: \"\";position: absolute;border-left: 1px solid gray;box-sizing: border-box;top: 0;bottom: 0;left: 50%;z-index: 0;}#sk-container-id-1 div.sk-serial {display: flex;flex-direction: column;align-items: center;background-color: white;padding-right: 0.2em;padding-left: 0.2em;position: relative;}#sk-container-id-1 div.sk-item {position: relative;z-index: 1;}#sk-container-id-1 div.sk-parallel {display: flex;align-items: stretch;justify-content: center;background-color: white;position: relative;}#sk-container-id-1 div.sk-item::before, #sk-container-id-1 div.sk-parallel-item::before {content: \"\";position: absolute;border-left: 1px solid gray;box-sizing: border-box;top: 0;bottom: 0;left: 50%;z-index: -1;}#sk-container-id-1 div.sk-parallel-item {display: flex;flex-direction: column;z-index: 1;position: relative;background-color: white;}#sk-container-id-1 div.sk-parallel-item:first-child::after {align-self: flex-end;width: 50%;}#sk-container-id-1 div.sk-parallel-item:last-child::after {align-self: flex-start;width: 50%;}#sk-container-id-1 div.sk-parallel-item:only-child::after {width: 0;}#sk-container-id-1 div.sk-dashed-wrapped {border: 1px dashed gray;margin: 0 0.4em 0.5em 0.4em;box-sizing: border-box;padding-bottom: 0.4em;background-color: white;}#sk-container-id-1 div.sk-label label {font-family: monospace;font-weight: bold;display: inline-block;line-height: 1.2em;}#sk-container-id-1 div.sk-label-container {text-align: center;}#sk-container-id-1 div.sk-container {/* jupyter's `normalize.less` sets `[hidden] { display: none; }` but bootstrap.min.css set `[hidden] { display: none !important; }` so we also need the `!important` here to be able to override the default hidden behavior on the sphinx rendered scikit-learn.org. See: https://github.com/scikit-learn/scikit-learn/issues/21755 */display: inline-block !important;position: relative;}#sk-container-id-1 div.sk-text-repr-fallback {display: none;}</style><div id=\"sk-container-id-1\" class=\"sk-top-container\"><div class=\"sk-text-repr-fallback\"><pre>XGBRegressor(base_score=None, booster=None, callbacks=None,\n",
       "             colsample_bylevel=None, colsample_bynode=None,\n",
       "             colsample_bytree=None, device=None, early_stopping_rounds=None,\n",
       "             enable_categorical=False, eval_metric=None, feature_types=None,\n",
       "             gamma=None, grow_policy=None, importance_type=None,\n",
       "             interaction_constraints=None, learning_rate=None, max_bin=None,\n",
       "             max_cat_threshold=None, max_cat_to_onehot=None,\n",
       "             max_delta_step=None, max_depth=None, max_leaves=None,\n",
       "             min_child_weight=None, missing=nan, monotone_constraints=None,\n",
       "             multi_strategy=None, n_estimators=None, n_jobs=None,\n",
       "             num_parallel_tree=None, random_state=None, ...)</pre><b>In a Jupyter environment, please rerun this cell to show the HTML representation or trust the notebook. <br />On GitHub, the HTML representation is unable to render, please try loading this page with nbviewer.org.</b></div><div class=\"sk-container\" hidden><div class=\"sk-item\"><div class=\"sk-estimator sk-toggleable\"><input class=\"sk-toggleable__control sk-hidden--visually\" id=\"sk-estimator-id-1\" type=\"checkbox\" checked><label for=\"sk-estimator-id-1\" class=\"sk-toggleable__label sk-toggleable__label-arrow\">XGBRegressor</label><div class=\"sk-toggleable__content\"><pre>XGBRegressor(base_score=None, booster=None, callbacks=None,\n",
       "             colsample_bylevel=None, colsample_bynode=None,\n",
       "             colsample_bytree=None, device=None, early_stopping_rounds=None,\n",
       "             enable_categorical=False, eval_metric=None, feature_types=None,\n",
       "             gamma=None, grow_policy=None, importance_type=None,\n",
       "             interaction_constraints=None, learning_rate=None, max_bin=None,\n",
       "             max_cat_threshold=None, max_cat_to_onehot=None,\n",
       "             max_delta_step=None, max_depth=None, max_leaves=None,\n",
       "             min_child_weight=None, missing=nan, monotone_constraints=None,\n",
       "             multi_strategy=None, n_estimators=None, n_jobs=None,\n",
       "             num_parallel_tree=None, random_state=None, ...)</pre></div></div></div></div></div>"
      ],
      "text/plain": [
       "XGBRegressor(base_score=None, booster=None, callbacks=None,\n",
       "             colsample_bylevel=None, colsample_bynode=None,\n",
       "             colsample_bytree=None, device=None, early_stopping_rounds=None,\n",
       "             enable_categorical=False, eval_metric=None, feature_types=None,\n",
       "             gamma=None, grow_policy=None, importance_type=None,\n",
       "             interaction_constraints=None, learning_rate=None, max_bin=None,\n",
       "             max_cat_threshold=None, max_cat_to_onehot=None,\n",
       "             max_delta_step=None, max_depth=None, max_leaves=None,\n",
       "             min_child_weight=None, missing=nan, monotone_constraints=None,\n",
       "             multi_strategy=None, n_estimators=None, n_jobs=None,\n",
       "             num_parallel_tree=None, random_state=None, ...)"
      ]
     },
     "execution_count": 14,
     "metadata": {},
     "output_type": "execute_result"
    }
   ],
   "source": [
    "model.fit(X_train, y_train)"
   ]
  },
  {
   "cell_type": "code",
   "execution_count": 15,
   "metadata": {},
   "outputs": [
    {
     "data": {
      "text/plain": [
       "<Axes: title={'center': 'Feature importance'}, xlabel='F score', ylabel='Features'>"
      ]
     },
     "execution_count": 15,
     "metadata": {},
     "output_type": "execute_result"
    },
    {
     "data": {
      "image/png": "[encoded data removed]",
      "text/plain": [
       "<Figure size 640x480 with 1 Axes>"
      ]
     },
     "metadata": {},
     "output_type": "display_data"
    }
   ],
   "source": [
    "import matplotlib.pyplot as plt\n",
    "%matplotlib inline\n",
    "\n",
    "xgb.plot_importance(model, ax=plt.gca(), max_num_features=20)\n"
   ]
  },
  {
   "cell_type": "code",
   "execution_count": 16,
   "metadata": {},
   "outputs": [
    {
     "name": "stdout",
     "output_type": "stream",
     "text": [
      "0.9999988432637087\n",
      "1.7233930028985977e-06\n"
     ]
    }
   ],
   "source": [
    "predictions = model.predict(X_test) \n",
    "pred_train = model.predict(X_train)\n",
    "print(r2_score(y_train, pred_train))\n",
    "print(mean_squared_error(y_train, pred_train))"
   ]
  },
  {
   "cell_type": "code",
   "execution_count": 19,
   "metadata": {},
   "outputs": [
    {
     "name": "stdout",
     "output_type": "stream",
     "text": [
      "0.9958914756680386\n",
      "0.006030325952269888\n",
      "accuracy score is: 0.9909399773499433\n",
      "precision score is: 0.9497672795853084\n",
      "recall score is: 0.9462936898897489\n",
      "f1 score is: 0.9479757850849216\n",
      "[[  6   2   0   0   0   0   0]\n",
      " [  2  23   1   0   0   0   0]\n",
      " [  0   0  91   0   0   0   0]\n",
      " [  0   0   0 288   2   0   0]\n",
      " [  0   0   0   1 272   0   0]\n",
      " [  0   0   0   0   0 128   0]\n",
      " [  0   0   0   0   0   0  67]]\n"
     ]
    }
   ],
   "source": [
    "print(model.score(X_test, y_test))\n",
    "print(mean_squared_error(y_test, predictions))\n",
    "print(f\"accuracy score is: {accuracy_score(y_test, predictions.round())}\")\n",
    "print(f\"precision score is: {precision_score(y_test, predictions.round(), average='macro')}\")\n",
    "print(f\"recall score is: {recall_score(y_test, predictions.round(), average='macro')}\")\n",
    "print(f\"f1 score is: {f1_score(y_test, predictions.round(), average='macro')}\")\n",
    "print(confusion_matrix(y_test, predictions.round()))\n"
   ]
  },
  {
   "cell_type": "code",
   "execution_count": 18,
   "metadata": {},
   "outputs": [
    {
     "ename": "SyntaxError",
     "evalue": "expression expected after dictionary key and ':' (944089150.py, line 8)",
     "output_type": "error",
     "traceback": [
      "\u001b[0;36m  Cell \u001b[0;32mIn[18], line 8\u001b[0;36m\u001b[0m\n\u001b[0;31m    \"x\": ,\u001b[0m\n\u001b[0m       ^\u001b[0m\n\u001b[0;31mSyntaxError\u001b[0m\u001b[0;31m:\u001b[0m expression expected after dictionary key and ':'\n"
     ]
    }
   ],
   "source": [
    "import plotly.plotly as py\n",
    "from plotly.graph_objs import *\n",
    "\n",
    "\n",
    "trace1 = {\n",
    "  \"name\": \"Random Forest Feature Importance\", \n",
    "  \"type\": \"bar\", \n",
    "  \"x\": ,\n",
    "  \"y\": [\"_id\", \n",
    "        \"consommation_energie\", \n",
    "        \"classe_consommation_energie\", \n",
    "        \"surface_thermique_lot\",\n",
    "        \"estimation_ges\", \n",
    "        \"classe_estimation_ges\",\n",
    "        \"annee_construction\",\n",
    "        'latitude', \n",
    "        'longitude',\n",
    "        'departement',\n",
    "        \"tr002_type_batiment_description_Logement\",\n",
    "        \"tr002_type_batiment_description_MaisonIndividuelle\",],\n",
    "  \"marker\": {\n",
    "    \"color\": [0.0, 0.0, 0.0, 0.0, 0.0, 0.0, 0.0, 0.0, 0.0, 0.0, 0.0, 0.0, 0.0, 0.0, 0.0, 0.0, 0.0, 0.0, 0.0, 0.0, 5.109716133987695e-06, 7.703036483386167e-06, 8.461552083370545e-06, 8.663988004906864e-06, 9.020795706973176e-06, 1.004570512055851e-05, 1.5671140853458132e-05, 1.6295659493572165e-05, 1.741906313673886e-05, 2.0100822829957596e-05, 2.2816302915417907e-05, 2.4246803930597424e-05, 2.4757393100676952e-05, 2.500027452719728e-05, 3.3697574059906286e-05, 3.4168653433654525e-05, 3.643041079993551e-05, 3.791934111251367e-05, 4.274469005029469e-05, 4.343263162021663e-05, 4.426027394984055e-05, 4.695600865548089e-05, 4.9565838405169425e-05, 4.978039638947052e-05, 5.0012660874598815e-05, 5.141910875145225e-05, 5.154715590130228e-05, 5.1621482352459386e-05, 5.329878576685483e-05, 5.51707190617985e-05, 5.974094686718682e-05, 5.985800042968552e-05, 6.153456226452275e-05, 6.210374529100839e-05, 6.254914622828774e-05, 6.270436687526173e-05, 6.335711425698183e-05, 6.851079633660588e-05, 7.119194195559193e-05, 7.848857332340006e-05, 8.049331415476887e-05, 8.621532047332815e-05, 9.074794559129119e-05, 9.523879940753821e-05, 9.53698154669919e-05, 9.966178025411473e-05, 0.00010163674209469113, 0.00010213774061058767, 0.00010626285667715481, 0.00010648344892300718, 0.00010651493565651885, 0.00010909040078294162, 0.00011295050924714004, 0.00012086551852608377, 0.00012321821690849878, 0.0001302848088304128, 0.00013085866018109008, 0.00013195222940709937, 0.00013269767028158952, 0.00013285628907335522, 0.00013296900060123736, 0.0001387352136143505, 0.0001408882286795733, 0.00014091380326905175, 0.00014177539789886107, 0.0001433471852318183, 0.00014360727187070127, 0.00015021387287794013, 0.00015117667044461691, 0.0001512398762656828, 0.0001536449801303124, 0.00015577632495893283, 0.00015675205174575755, 0.00016210359626574585, 0.00016272742072407365, 0.00016407179298442474, 0.00016741441198541977, 0.00016806414532989866, 0.00016950806319640025, 0.00016969787473001882, 0.00017459449522339303, 0.0001867943476849605, 0.00019381965003712718, 0.00019413265191160704, 0.0001945649324605474, 0.0001951050598815392, 0.00020095959216767276, 0.0002051363814916192, 0.00020694589464624456, 0.00020786611152972813, 0.0002085610286985377, 0.00020995001424627742, 0.0002117954040242553, 0.00021815132638941106, 0.00022038624854582976, 0.00022774159110143692, 0.0002279980237340525, 0.00023108932092671936, 0.00023155002294300252, 0.00023708188046185416, 0.0002396277379073452, 0.00024033073321547328, 0.00025965740129177666, 0.00027179919448940026, 0.00027680882597748527, 0.0002778101988596563, 0.000283103033530145, 0.0002867293024553309, 0.0002894311278325083, 0.0003019252306737587, 0.0003020444702053275, 0.00030996100099880817, 0.00033550386951376374, 0.00034786901562607574, 0.0003500594652651233, 0.00035054739021905964, 0.000356989405476307, 0.00035860221109012885, 0.0003616861617658578, 0.00037204659224696583, 0.0003786033770473058, 0.0003842468481484238, 0.00038448943135944167, 0.00038534863276875963, 0.00038860753677546497, 0.00039207074425250165, 0.00040189086545742346, 0.000410173021040104, 0.0004478865152072518, 0.0004567688820849058, 0.0004589990956313546, 0.0005028927245470937, 0.0005150819468571212, 0.0005188389383163014, 0.0005404916792288722, 0.0005520216681392972, 0.0005555107615488306, 0.0005625853532960272, 0.0005704158918594985, 0.000608176395113242, 0.000617742926859644, 0.00062415967014512, 0.0006402769532744297, 0.0006456327963114584, 0.0006496921695966541, 0.0006501359165780403, 0.0006557623149041427, 0.000715203145657671, 0.0007305701078484692, 0.000748899425528294, 0.0007567351083934106, 0.0007587782804650318, 0.0007604865996432056, 0.0007807033077872844, 0.000784202924362991, 0.0008083979053611966, 0.0008186457739020104, 0.0008220672529574241, 0.0008358055498667037, 0.000851413728871102, 0.0008538190956282847, 0.000857976540212332, 0.000880729289400861, 0.0008839400928080532, 0.00092762318219349, 0.0009416400446946571, 0.0009466184489675222, 0.00094786827026551, 0.000989637234795969, 0.0010155009357250297, 0.0010538329490184625, 0.0010539211106009197, 0.0010547421062438243, 0.0010737290725892192, 0.0010839107207496878, 0.0010946461090414188, 0.0010963604431664194, 0.0011141584335953745, 0.001122551438474435, 0.0011386589964031198, 0.0011485752220115706, 0.0011715913632396075, 0.0012547842594984933, 0.0012653245149289254, 0.0012656561998800658, 0.0013218647967237248, 0.0014038313505240403, 0.0014293543962963478, 0.001519090028695659, 0.0015743801748051797, 0.0016161234620355772, 0.0016167382428944799, 0.0017036889552034646, 0.0017044580050488097, 0.0017572834900856866, 0.0019005080980835198, 0.0026405461759789785, 0.0027679204612043873, 0.002859665694595686, 0.003380825002576292, 0.004289142410134977, 0.004385995781812278, 0.004401371300564893, 0.004947092571305504, 0.00497539015260427, 0.005318648508995366, 0.005973821967933667, 0.007410073626142893, 0.007906564454379624, 0.009940164257351922, 0.010792403274297207, 0.0109642333467352, 0.01110272406021579, 0.011396153940669028, 0.01242676564857529, 0.01306945731155104, 0.018676903640988212, 0.04913950192384366, 0.06655827427167903, 0.29631340649339394, 0.343293126769514], \n",
    "    \"colorscale\": \"Viridis\", \n",
    "    \"reversescale\": True\n",
    "  }, \n",
    "  \"orientation\": \"h\"\n",
    "}\n",
    "data = Data([trace1])\n",
    "layout = {\n",
    "  \"title\": \"Barplot of feature importance\", \n",
    "  \"width\": 1000, \n",
    "  \"yaxis\": {\n",
    "    \"showgrid\": False, \n",
    "    \"showline\": False, \n",
    "    \"showticklabels\": True\n",
    "  }, \n",
    "  \"height\": 2000, \n",
    "  \"margin\": {\"l\": 300}\n",
    "}\n",
    "fig = Figure(data=data, layout=layout)\n",
    "plot_url = py.plot(fig)\n"
   ]
  }
 ],
 "metadata": {
  "kernelspec": {
   "display_name": "Python 3",
   "language": "python",
   "name": "python3"
  },
  "language_info": {
   "codemirror_mode": {
    "name": "ipython",
    "version": 3
   },
   "file_extension": ".py",
   "mimetype": "text/x-python",
   "name": "python",
   "nbconvert_exporter": "python",
   "pygments_lexer": "ipython3",
   "version": "3.10.13"
  }
 },
 "nbformat": 4,
 "nbformat_minor": 2
}
