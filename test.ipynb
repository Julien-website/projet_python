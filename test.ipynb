{
 "cells": [
  {
   "cell_type": "code",
   "execution_count": 1,
   "metadata": {},
   "outputs": [],
   "source": [
    "import pandas as pd\n",
    "import numpy as np \n",
    "import plotly_express as px\n",
    "import plotly.graph_objects as go\n"
   ]
  },
  {
   "cell_type": "code",
   "execution_count": 11,
   "metadata": {},
   "outputs": [
    {
     "data": {
      "text/html": [
       "<div>\n",
       "<style scoped>\n",
       "    .dataframe tbody tr th:only-of-type {\n",
       "        vertical-align: middle;\n",
       "    }\n",
       "\n",
       "    .dataframe tbody tr th {\n",
       "        vertical-align: top;\n",
       "    }\n",
       "\n",
       "    .dataframe thead th {\n",
       "        text-align: right;\n",
       "    }\n",
       "</style>\n",
       "<table border=\"1\" class=\"dataframe\">\n",
       "  <thead>\n",
       "    <tr style=\"text-align: right;\">\n",
       "      <th></th>\n",
       "      <th>_id</th>\n",
       "      <th>consommation_energie</th>\n",
       "      <th>classe_consommation_energie</th>\n",
       "      <th>estimation_ges</th>\n",
       "      <th>surface_thermique_lot</th>\n",
       "      <th>classe_estimation_ges</th>\n",
       "      <th>annee_construction</th>\n",
       "      <th>tr002_type_batiment_description</th>\n",
       "      <th>code_insee_commune_actualise</th>\n",
       "      <th>geo_adresse</th>\n",
       "      <th>td006_batiment_id</th>\n",
       "      <th>longueur</th>\n",
       "      <th>tv013_valeur_pont_thermique_id</th>\n",
       "      <th>Code_ Pont_Thermique</th>\n",
       "      <th>result_label</th>\n",
       "      <th>result_score</th>\n",
       "      <th>tr004_type_energie_id</th>\n",
       "      <th>consommation_surface_ratio</th>\n",
       "    </tr>\n",
       "  </thead>\n",
       "  <tbody>\n",
       "  </tbody>\n",
       "</table>\n",
       "</div>"
      ],
      "text/plain": [
       "Empty DataFrame\n",
       "Columns: [_id, consommation_energie, classe_consommation_energie, estimation_ges, surface_thermique_lot, classe_estimation_ges, annee_construction, tr002_type_batiment_description, code_insee_commune_actualise, geo_adresse, td006_batiment_id, longueur, tv013_valeur_pont_thermique_id, Code_ Pont_Thermique, result_label, result_score, tr004_type_energie_id , consommation_surface_ratio]\n",
       "Index: []"
      ]
     },
     "execution_count": 11,
     "metadata": {},
     "output_type": "execute_result"
    }
   ],
   "source": [
    "from  comprendre_api.Clean_donnees import liste_propre\n",
    "\n",
    "\n",
    "data = pd.concat([liste_propre(code_commune=None, taille_echantillon=10000),\n",
    "                liste_propre(code_commune=None, taille_echantillon=10000),\n",
    "                liste_propre(code_commune=None, taille_echantillon=10000),\n",
    "                liste_propre(code_commune=None, taille_echantillon=10000)],\n",
    "                axis=0, \n",
    "                ignore_index=True)\n",
    "data.head(1)"
   ]
  },
  {
   "cell_type": "code",
   "execution_count": 12,
   "metadata": {},
   "outputs": [],
   "source": [
    "data= pd.read_excel('visualisation.xlsx')"
   ]
  },
  {
   "cell_type": "code",
   "execution_count": 13,
   "metadata": {},
   "outputs": [
    {
     "data": {
      "text/html": [
       "<div>\n",
       "<style scoped>\n",
       "    .dataframe tbody tr th:only-of-type {\n",
       "        vertical-align: middle;\n",
       "    }\n",
       "\n",
       "    .dataframe tbody tr th {\n",
       "        vertical-align: top;\n",
       "    }\n",
       "\n",
       "    .dataframe thead th {\n",
       "        text-align: right;\n",
       "    }\n",
       "</style>\n",
       "<table border=\"1\" class=\"dataframe\">\n",
       "  <thead>\n",
       "    <tr style=\"text-align: right;\">\n",
       "      <th></th>\n",
       "      <th>consommation_energie</th>\n",
       "      <th>classe_consommation_energie</th>\n",
       "      <th>estimation_ges</th>\n",
       "      <th>surface_thermique_lot</th>\n",
       "      <th>classe_estimation_ges</th>\n",
       "      <th>annee_construction</th>\n",
       "      <th>code_insee_commune_actualise</th>\n",
       "    </tr>\n",
       "  </thead>\n",
       "  <tbody>\n",
       "    <tr>\n",
       "      <th>count</th>\n",
       "      <td>2944.000000</td>\n",
       "      <td>2938.000000</td>\n",
       "      <td>2944.000000</td>\n",
       "      <td>2998.000000</td>\n",
       "      <td>2938.000000</td>\n",
       "      <td>2822.000000</td>\n",
       "      <td>3000.0</td>\n",
       "    </tr>\n",
       "    <tr>\n",
       "      <th>mean</th>\n",
       "      <td>131.283736</td>\n",
       "      <td>2.850919</td>\n",
       "      <td>21.987877</td>\n",
       "      <td>87.176971</td>\n",
       "      <td>3.089517</td>\n",
       "      <td>1960.747342</td>\n",
       "      <td>91477.0</td>\n",
       "    </tr>\n",
       "    <tr>\n",
       "      <th>std</th>\n",
       "      <td>108.429540</td>\n",
       "      <td>1.345202</td>\n",
       "      <td>22.776444</td>\n",
       "      <td>289.954729</td>\n",
       "      <td>1.474497</td>\n",
       "      <td>280.035735</td>\n",
       "      <td>0.0</td>\n",
       "    </tr>\n",
       "    <tr>\n",
       "      <th>min</th>\n",
       "      <td>2.260000</td>\n",
       "      <td>1.000000</td>\n",
       "      <td>0.510000</td>\n",
       "      <td>1.000000</td>\n",
       "      <td>1.000000</td>\n",
       "      <td>1.000000</td>\n",
       "      <td>91477.0</td>\n",
       "    </tr>\n",
       "    <tr>\n",
       "      <th>25%</th>\n",
       "      <td>66.510000</td>\n",
       "      <td>2.000000</td>\n",
       "      <td>8.320000</td>\n",
       "      <td>38.285000</td>\n",
       "      <td>2.000000</td>\n",
       "      <td>1988.000000</td>\n",
       "      <td>91477.0</td>\n",
       "    </tr>\n",
       "    <tr>\n",
       "      <th>50%</th>\n",
       "      <td>80.100000</td>\n",
       "      <td>2.000000</td>\n",
       "      <td>12.410000</td>\n",
       "      <td>58.505000</td>\n",
       "      <td>3.000000</td>\n",
       "      <td>2015.000000</td>\n",
       "      <td>91477.0</td>\n",
       "    </tr>\n",
       "    <tr>\n",
       "      <th>75%</th>\n",
       "      <td>154.000000</td>\n",
       "      <td>4.000000</td>\n",
       "      <td>25.135000</td>\n",
       "      <td>76.030000</td>\n",
       "      <td>4.000000</td>\n",
       "      <td>2015.000000</td>\n",
       "      <td>91477.0</td>\n",
       "    </tr>\n",
       "    <tr>\n",
       "      <th>max</th>\n",
       "      <td>957.000000</td>\n",
       "      <td>7.000000</td>\n",
       "      <td>210.400000</td>\n",
       "      <td>6994.500000</td>\n",
       "      <td>7.000000</td>\n",
       "      <td>2021.000000</td>\n",
       "      <td>91477.0</td>\n",
       "    </tr>\n",
       "  </tbody>\n",
       "</table>\n",
       "</div>"
      ],
      "text/plain": [
       "       consommation_energie  classe_consommation_energie  estimation_ges  \\\n",
       "count           2944.000000                  2938.000000     2944.000000   \n",
       "mean             131.283736                     2.850919       21.987877   \n",
       "std              108.429540                     1.345202       22.776444   \n",
       "min                2.260000                     1.000000        0.510000   \n",
       "25%               66.510000                     2.000000        8.320000   \n",
       "50%               80.100000                     2.000000       12.410000   \n",
       "75%              154.000000                     4.000000       25.135000   \n",
       "max              957.000000                     7.000000      210.400000   \n",
       "\n",
       "       surface_thermique_lot  classe_estimation_ges  annee_construction  \\\n",
       "count            2998.000000            2938.000000         2822.000000   \n",
       "mean               87.176971               3.089517         1960.747342   \n",
       "std               289.954729               1.474497          280.035735   \n",
       "min                 1.000000               1.000000            1.000000   \n",
       "25%                38.285000               2.000000         1988.000000   \n",
       "50%                58.505000               3.000000         2015.000000   \n",
       "75%                76.030000               4.000000         2015.000000   \n",
       "max              6994.500000               7.000000         2021.000000   \n",
       "\n",
       "       code_insee_commune_actualise  \n",
       "count                        3000.0  \n",
       "mean                        91477.0  \n",
       "std                             0.0  \n",
       "min                         91477.0  \n",
       "25%                         91477.0  \n",
       "50%                         91477.0  \n",
       "75%                         91477.0  \n",
       "max                         91477.0  "
      ]
     },
     "execution_count": 13,
     "metadata": {},
     "output_type": "execute_result"
    }
   ],
   "source": [
    "data.describe()"
   ]
  },
  {
   "cell_type": "code",
   "execution_count": 14,
   "metadata": {},
   "outputs": [
    {
     "name": "stdout",
     "output_type": "stream",
     "text": [
      "<class 'pandas.core.frame.DataFrame'>\n",
      "RangeIndex: 3000 entries, 0 to 2999\n",
      "Data columns (total 10 columns):\n",
      " #   Column                           Non-Null Count  Dtype  \n",
      "---  ------                           --------------  -----  \n",
      " 0   _id                              3000 non-null   object \n",
      " 1   consommation_energie             2944 non-null   float64\n",
      " 2   classe_consommation_energie      2938 non-null   float64\n",
      " 3   estimation_ges                   2944 non-null   float64\n",
      " 4   surface_thermique_lot            2998 non-null   float64\n",
      " 5   classe_estimation_ges            2938 non-null   float64\n",
      " 6   annee_construction               2822 non-null   float64\n",
      " 7   tr002_type_batiment_description  3000 non-null   object \n",
      " 8   code_insee_commune_actualise     3000 non-null   int64  \n",
      " 9   geo_adresse                      2861 non-null   object \n",
      "dtypes: float64(6), int64(1), object(3)\n",
      "memory usage: 234.5+ KB\n"
     ]
    }
   ],
   "source": [
    "data.info()"
   ]
  },
  {
   "cell_type": "code",
   "execution_count": 15,
   "metadata": {},
   "outputs": [
    {
     "data": {
      "text/html": [
       "<div>\n",
       "<style scoped>\n",
       "    .dataframe tbody tr th:only-of-type {\n",
       "        vertical-align: middle;\n",
       "    }\n",
       "\n",
       "    .dataframe tbody tr th {\n",
       "        vertical-align: top;\n",
       "    }\n",
       "\n",
       "    .dataframe thead th {\n",
       "        text-align: right;\n",
       "    }\n",
       "</style>\n",
       "<table border=\"1\" class=\"dataframe\">\n",
       "  <thead>\n",
       "    <tr style=\"text-align: right;\">\n",
       "      <th></th>\n",
       "      <th>consommation_energie</th>\n",
       "      <th>classe_consommation_energie</th>\n",
       "      <th>estimation_ges</th>\n",
       "      <th>surface_thermique_lot</th>\n",
       "      <th>classe_estimation_ges</th>\n",
       "      <th>annee_construction</th>\n",
       "      <th>code_insee_commune_actualise</th>\n",
       "    </tr>\n",
       "  </thead>\n",
       "  <tbody>\n",
       "    <tr>\n",
       "      <th>count</th>\n",
       "      <td>2889.000000</td>\n",
       "      <td>2894.000000</td>\n",
       "      <td>2889.00000</td>\n",
       "      <td>2942.000000</td>\n",
       "      <td>2894.000000</td>\n",
       "      <td>2766.000000</td>\n",
       "      <td>2944.0</td>\n",
       "    </tr>\n",
       "    <tr>\n",
       "      <th>mean</th>\n",
       "      <td>130.018024</td>\n",
       "      <td>2.828956</td>\n",
       "      <td>21.57559</td>\n",
       "      <td>86.967872</td>\n",
       "      <td>3.058742</td>\n",
       "      <td>2000.424078</td>\n",
       "      <td>91477.0</td>\n",
       "    </tr>\n",
       "    <tr>\n",
       "      <th>std</th>\n",
       "      <td>107.920760</td>\n",
       "      <td>1.333751</td>\n",
       "      <td>22.52193</td>\n",
       "      <td>292.330796</td>\n",
       "      <td>1.456598</td>\n",
       "      <td>25.474588</td>\n",
       "      <td>0.0</td>\n",
       "    </tr>\n",
       "    <tr>\n",
       "      <th>min</th>\n",
       "      <td>2.260000</td>\n",
       "      <td>1.000000</td>\n",
       "      <td>0.51000</td>\n",
       "      <td>1.000000</td>\n",
       "      <td>1.000000</td>\n",
       "      <td>1850.000000</td>\n",
       "      <td>91477.0</td>\n",
       "    </tr>\n",
       "    <tr>\n",
       "      <th>25%</th>\n",
       "      <td>66.510000</td>\n",
       "      <td>2.000000</td>\n",
       "      <td>8.26000</td>\n",
       "      <td>38.000000</td>\n",
       "      <td>2.000000</td>\n",
       "      <td>1991.000000</td>\n",
       "      <td>91477.0</td>\n",
       "    </tr>\n",
       "    <tr>\n",
       "      <th>50%</th>\n",
       "      <td>80.100000</td>\n",
       "      <td>2.000000</td>\n",
       "      <td>12.31000</td>\n",
       "      <td>58.000000</td>\n",
       "      <td>3.000000</td>\n",
       "      <td>2015.000000</td>\n",
       "      <td>91477.0</td>\n",
       "    </tr>\n",
       "    <tr>\n",
       "      <th>75%</th>\n",
       "      <td>145.040000</td>\n",
       "      <td>3.000000</td>\n",
       "      <td>24.26000</td>\n",
       "      <td>75.222500</td>\n",
       "      <td>4.000000</td>\n",
       "      <td>2015.000000</td>\n",
       "      <td>91477.0</td>\n",
       "    </tr>\n",
       "    <tr>\n",
       "      <th>max</th>\n",
       "      <td>957.000000</td>\n",
       "      <td>7.000000</td>\n",
       "      <td>210.40000</td>\n",
       "      <td>6994.500000</td>\n",
       "      <td>7.000000</td>\n",
       "      <td>2021.000000</td>\n",
       "      <td>91477.0</td>\n",
       "    </tr>\n",
       "  </tbody>\n",
       "</table>\n",
       "</div>"
      ],
      "text/plain": [
       "       consommation_energie  classe_consommation_energie  estimation_ges  \\\n",
       "count           2889.000000                  2894.000000      2889.00000   \n",
       "mean             130.018024                     2.828956        21.57559   \n",
       "std              107.920760                     1.333751        22.52193   \n",
       "min                2.260000                     1.000000         0.51000   \n",
       "25%               66.510000                     2.000000         8.26000   \n",
       "50%               80.100000                     2.000000        12.31000   \n",
       "75%              145.040000                     3.000000        24.26000   \n",
       "max              957.000000                     7.000000       210.40000   \n",
       "\n",
       "       surface_thermique_lot  classe_estimation_ges  annee_construction  \\\n",
       "count            2942.000000            2894.000000         2766.000000   \n",
       "mean               86.967872               3.058742         2000.424078   \n",
       "std               292.330796               1.456598           25.474588   \n",
       "min                 1.000000               1.000000         1850.000000   \n",
       "25%                38.000000               2.000000         1991.000000   \n",
       "50%                58.000000               3.000000         2015.000000   \n",
       "75%                75.222500               4.000000         2015.000000   \n",
       "max              6994.500000               7.000000         2021.000000   \n",
       "\n",
       "       code_insee_commune_actualise  \n",
       "count                        2944.0  \n",
       "mean                        91477.0  \n",
       "std                             0.0  \n",
       "min                         91477.0  \n",
       "25%                         91477.0  \n",
       "50%                         91477.0  \n",
       "75%                         91477.0  \n",
       "max                         91477.0  "
      ]
     },
     "execution_count": 15,
     "metadata": {},
     "output_type": "execute_result"
    }
   ],
   "source": [
    "condition=(data['annee_construction']<1800)|(data['annee_construction']>2023)|(data['consommation_energie']<0)\n",
    "data=data[~condition]\n",
    "data.describe()\n"
   ]
  },
  {
   "cell_type": "code",
   "execution_count": 17,
   "metadata": {},
   "outputs": [
    {
     "data": {
      "application/vnd.plotly.v1+json": {
       "config": {
        "plotlyServerURL": "https://plot.ly"
       },
       "data": [
        {
         "alignmentgroup": "True",
         "hovertemplate": "classe_consommation_energie=%{x}<br>Count=%{y}<extra></extra>",
         "legendgroup": "",
         "marker": {
          "color": "#F63366",
          "opacity": 0.8,
          "pattern": {
           "shape": ""
          }
         },
         "name": "",
         "offsetgroup": "",
         "orientation": "v",
         "showlegend": false,
         "textposition": "auto",
         "type": "bar",
         "x": [
          2,
          3,
          5,
          4,
          6,
          1,
          7
         ],
         "xaxis": "x",
         "y": [
          1748,
          371,
          287,
          248,
          139,
          65,
          36
         ],
         "yaxis": "y"
        }
       ],
       "layout": {
        "barmode": "relative",
        "height": 500,
        "legend": {
         "tracegroupgap": 0
        },
        "template": {
         "data": {
          "bar": [
           {
            "error_x": {
             "color": "#f2f5fa"
            },
            "error_y": {
             "color": "#f2f5fa"
            },
            "marker": {
             "line": {
              "color": "rgb(17,17,17)",
              "width": 0.5
             },
             "pattern": {
              "fillmode": "overlay",
              "size": 10,
              "solidity": 0.2
             }
            },
            "type": "bar"
           }
          ],
          "barpolar": [
           {
            "marker": {
             "line": {
              "color": "rgb(17,17,17)",
              "width": 0.5
             },
             "pattern": {
              "fillmode": "overlay",
              "size": 10,
              "solidity": 0.2
             }
            },
            "type": "barpolar"
           }
          ],
          "carpet": [
           {
            "aaxis": {
             "endlinecolor": "#A2B1C6",
             "gridcolor": "#506784",
             "linecolor": "#506784",
             "minorgridcolor": "#506784",
             "startlinecolor": "#A2B1C6"
            },
            "baxis": {
             "endlinecolor": "#A2B1C6",
             "gridcolor": "#506784",
             "linecolor": "#506784",
             "minorgridcolor": "#506784",
             "startlinecolor": "#A2B1C6"
            },
            "type": "carpet"
           }
          ],
          "choropleth": [
           {
            "colorbar": {
             "outlinewidth": 0,
             "ticks": ""
            },
            "type": "choropleth"
           }
          ],
          "contour": [
           {
            "colorbar": {
             "outlinewidth": 0,
             "ticks": ""
            },
            "colorscale": [
             [
              0,
              "#0d0887"
             ],
             [
              0.1111111111111111,
              "#46039f"
             ],
             [
              0.2222222222222222,
              "#7201a8"
             ],
             [
              0.3333333333333333,
              "#9c179e"
             ],
             [
              0.4444444444444444,
              "#bd3786"
             ],
             [
              0.5555555555555556,
              "#d8576b"
             ],
             [
              0.6666666666666666,
              "#ed7953"
             ],
             [
              0.7777777777777778,
              "#fb9f3a"
             ],
             [
              0.8888888888888888,
              "#fdca26"
             ],
             [
              1,
              "#f0f921"
             ]
            ],
            "type": "contour"
           }
          ],
          "contourcarpet": [
           {
            "colorbar": {
             "outlinewidth": 0,
             "ticks": ""
            },
            "type": "contourcarpet"
           }
          ],
          "heatmap": [
           {
            "colorbar": {
             "outlinewidth": 0,
             "ticks": ""
            },
            "colorscale": [
             [
              0,
              "#0d0887"
             ],
             [
              0.1111111111111111,
              "#46039f"
             ],
             [
              0.2222222222222222,
              "#7201a8"
             ],
             [
              0.3333333333333333,
              "#9c179e"
             ],
             [
              0.4444444444444444,
              "#bd3786"
             ],
             [
              0.5555555555555556,
              "#d8576b"
             ],
             [
              0.6666666666666666,
              "#ed7953"
             ],
             [
              0.7777777777777778,
              "#fb9f3a"
             ],
             [
              0.8888888888888888,
              "#fdca26"
             ],
             [
              1,
              "#f0f921"
             ]
            ],
            "type": "heatmap"
           }
          ],
          "heatmapgl": [
           {
            "colorbar": {
             "outlinewidth": 0,
             "ticks": ""
            },
            "colorscale": [
             [
              0,
              "#0d0887"
             ],
             [
              0.1111111111111111,
              "#46039f"
             ],
             [
              0.2222222222222222,
              "#7201a8"
             ],
             [
              0.3333333333333333,
              "#9c179e"
             ],
             [
              0.4444444444444444,
              "#bd3786"
             ],
             [
              0.5555555555555556,
              "#d8576b"
             ],
             [
              0.6666666666666666,
              "#ed7953"
             ],
             [
              0.7777777777777778,
              "#fb9f3a"
             ],
             [
              0.8888888888888888,
              "#fdca26"
             ],
             [
              1,
              "#f0f921"
             ]
            ],
            "type": "heatmapgl"
           }
          ],
          "histogram": [
           {
            "marker": {
             "pattern": {
              "fillmode": "overlay",
              "size": 10,
              "solidity": 0.2
             }
            },
            "type": "histogram"
           }
          ],
          "histogram2d": [
           {
            "colorbar": {
             "outlinewidth": 0,
             "ticks": ""
            },
            "colorscale": [
             [
              0,
              "#0d0887"
             ],
             [
              0.1111111111111111,
              "#46039f"
             ],
             [
              0.2222222222222222,
              "#7201a8"
             ],
             [
              0.3333333333333333,
              "#9c179e"
             ],
             [
              0.4444444444444444,
              "#bd3786"
             ],
             [
              0.5555555555555556,
              "#d8576b"
             ],
             [
              0.6666666666666666,
              "#ed7953"
             ],
             [
              0.7777777777777778,
              "#fb9f3a"
             ],
             [
              0.8888888888888888,
              "#fdca26"
             ],
             [
              1,
              "#f0f921"
             ]
            ],
            "type": "histogram2d"
           }
          ],
          "histogram2dcontour": [
           {
            "colorbar": {
             "outlinewidth": 0,
             "ticks": ""
            },
            "colorscale": [
             [
              0,
              "#0d0887"
             ],
             [
              0.1111111111111111,
              "#46039f"
             ],
             [
              0.2222222222222222,
              "#7201a8"
             ],
             [
              0.3333333333333333,
              "#9c179e"
             ],
             [
              0.4444444444444444,
              "#bd3786"
             ],
             [
              0.5555555555555556,
              "#d8576b"
             ],
             [
              0.6666666666666666,
              "#ed7953"
             ],
             [
              0.7777777777777778,
              "#fb9f3a"
             ],
             [
              0.8888888888888888,
              "#fdca26"
             ],
             [
              1,
              "#f0f921"
             ]
            ],
            "type": "histogram2dcontour"
           }
          ],
          "mesh3d": [
           {
            "colorbar": {
             "outlinewidth": 0,
             "ticks": ""
            },
            "type": "mesh3d"
           }
          ],
          "parcoords": [
           {
            "line": {
             "colorbar": {
              "outlinewidth": 0,
              "ticks": ""
             }
            },
            "type": "parcoords"
           }
          ],
          "pie": [
           {
            "automargin": true,
            "type": "pie"
           }
          ],
          "scatter": [
           {
            "marker": {
             "line": {
              "color": "#283442"
             }
            },
            "type": "scatter"
           }
          ],
          "scatter3d": [
           {
            "line": {
             "colorbar": {
              "outlinewidth": 0,
              "ticks": ""
             }
            },
            "marker": {
             "colorbar": {
              "outlinewidth": 0,
              "ticks": ""
             }
            },
            "type": "scatter3d"
           }
          ],
          "scattercarpet": [
           {
            "marker": {
             "colorbar": {
              "outlinewidth": 0,
              "ticks": ""
             }
            },
            "type": "scattercarpet"
           }
          ],
          "scattergeo": [
           {
            "marker": {
             "colorbar": {
              "outlinewidth": 0,
              "ticks": ""
             }
            },
            "type": "scattergeo"
           }
          ],
          "scattergl": [
           {
            "marker": {
             "line": {
              "color": "#283442"
             }
            },
            "type": "scattergl"
           }
          ],
          "scattermapbox": [
           {
            "marker": {
             "colorbar": {
              "outlinewidth": 0,
              "ticks": ""
             }
            },
            "type": "scattermapbox"
           }
          ],
          "scatterpolar": [
           {
            "marker": {
             "colorbar": {
              "outlinewidth": 0,
              "ticks": ""
             }
            },
            "type": "scatterpolar"
           }
          ],
          "scatterpolargl": [
           {
            "marker": {
             "colorbar": {
              "outlinewidth": 0,
              "ticks": ""
             }
            },
            "type": "scatterpolargl"
           }
          ],
          "scatterternary": [
           {
            "marker": {
             "colorbar": {
              "outlinewidth": 0,
              "ticks": ""
             }
            },
            "type": "scatterternary"
           }
          ],
          "surface": [
           {
            "colorbar": {
             "outlinewidth": 0,
             "ticks": ""
            },
            "colorscale": [
             [
              0,
              "#0d0887"
             ],
             [
              0.1111111111111111,
              "#46039f"
             ],
             [
              0.2222222222222222,
              "#7201a8"
             ],
             [
              0.3333333333333333,
              "#9c179e"
             ],
             [
              0.4444444444444444,
              "#bd3786"
             ],
             [
              0.5555555555555556,
              "#d8576b"
             ],
             [
              0.6666666666666666,
              "#ed7953"
             ],
             [
              0.7777777777777778,
              "#fb9f3a"
             ],
             [
              0.8888888888888888,
              "#fdca26"
             ],
             [
              1,
              "#f0f921"
             ]
            ],
            "type": "surface"
           }
          ],
          "table": [
           {
            "cells": {
             "fill": {
              "color": "#506784"
             },
             "line": {
              "color": "rgb(17,17,17)"
             }
            },
            "header": {
             "fill": {
              "color": "#2a3f5f"
             },
             "line": {
              "color": "rgb(17,17,17)"
             }
            },
            "type": "table"
           }
          ]
         },
         "layout": {
          "annotationdefaults": {
           "arrowcolor": "#f2f5fa",
           "arrowhead": 0,
           "arrowwidth": 1
          },
          "autotypenumbers": "strict",
          "coloraxis": {
           "colorbar": {
            "outlinewidth": 0,
            "ticks": ""
           }
          },
          "colorscale": {
           "diverging": [
            [
             0,
             "#8e0152"
            ],
            [
             0.1,
             "#c51b7d"
            ],
            [
             0.2,
             "#de77ae"
            ],
            [
             0.3,
             "#f1b6da"
            ],
            [
             0.4,
             "#fde0ef"
            ],
            [
             0.5,
             "#f7f7f7"
            ],
            [
             0.6,
             "#e6f5d0"
            ],
            [
             0.7,
             "#b8e186"
            ],
            [
             0.8,
             "#7fbc41"
            ],
            [
             0.9,
             "#4d9221"
            ],
            [
             1,
             "#276419"
            ]
           ],
           "sequential": [
            [
             0,
             "#0d0887"
            ],
            [
             0.1111111111111111,
             "#46039f"
            ],
            [
             0.2222222222222222,
             "#7201a8"
            ],
            [
             0.3333333333333333,
             "#9c179e"
            ],
            [
             0.4444444444444444,
             "#bd3786"
            ],
            [
             0.5555555555555556,
             "#d8576b"
            ],
            [
             0.6666666666666666,
             "#ed7953"
            ],
            [
             0.7777777777777778,
             "#fb9f3a"
            ],
            [
             0.8888888888888888,
             "#fdca26"
            ],
            [
             1,
             "#f0f921"
            ]
           ],
           "sequentialminus": [
            [
             0,
             "#0d0887"
            ],
            [
             0.1111111111111111,
             "#46039f"
            ],
            [
             0.2222222222222222,
             "#7201a8"
            ],
            [
             0.3333333333333333,
             "#9c179e"
            ],
            [
             0.4444444444444444,
             "#bd3786"
            ],
            [
             0.5555555555555556,
             "#d8576b"
            ],
            [
             0.6666666666666666,
             "#ed7953"
            ],
            [
             0.7777777777777778,
             "#fb9f3a"
            ],
            [
             0.8888888888888888,
             "#fdca26"
            ],
            [
             1,
             "#f0f921"
            ]
           ]
          },
          "colorway": [
           "#636efa",
           "#EF553B",
           "#00cc96",
           "#ab63fa",
           "#FFA15A",
           "#19d3f3",
           "#FF6692",
           "#B6E880",
           "#FF97FF",
           "#FECB52"
          ],
          "font": {
           "color": "#f2f5fa"
          },
          "geo": {
           "bgcolor": "rgb(17,17,17)",
           "lakecolor": "rgb(17,17,17)",
           "landcolor": "rgb(17,17,17)",
           "showlakes": true,
           "showland": true,
           "subunitcolor": "#506784"
          },
          "hoverlabel": {
           "align": "left"
          },
          "hovermode": "closest",
          "mapbox": {
           "style": "dark"
          },
          "paper_bgcolor": "rgb(17,17,17)",
          "plot_bgcolor": "rgb(17,17,17)",
          "polar": {
           "angularaxis": {
            "gridcolor": "#506784",
            "linecolor": "#506784",
            "ticks": ""
           },
           "bgcolor": "rgb(17,17,17)",
           "radialaxis": {
            "gridcolor": "#506784",
            "linecolor": "#506784",
            "ticks": ""
           }
          },
          "scene": {
           "xaxis": {
            "backgroundcolor": "rgb(17,17,17)",
            "gridcolor": "#506784",
            "gridwidth": 2,
            "linecolor": "#506784",
            "showbackground": true,
            "ticks": "",
            "zerolinecolor": "#C8D4E3"
           },
           "yaxis": {
            "backgroundcolor": "rgb(17,17,17)",
            "gridcolor": "#506784",
            "gridwidth": 2,
            "linecolor": "#506784",
            "showbackground": true,
            "ticks": "",
            "zerolinecolor": "#C8D4E3"
           },
           "zaxis": {
            "backgroundcolor": "rgb(17,17,17)",
            "gridcolor": "#506784",
            "gridwidth": 2,
            "linecolor": "#506784",
            "showbackground": true,
            "ticks": "",
            "zerolinecolor": "#C8D4E3"
           }
          },
          "shapedefaults": {
           "line": {
            "color": "#f2f5fa"
           }
          },
          "sliderdefaults": {
           "bgcolor": "#C8D4E3",
           "bordercolor": "rgb(17,17,17)",
           "borderwidth": 1,
           "tickwidth": 0
          },
          "ternary": {
           "aaxis": {
            "gridcolor": "#506784",
            "linecolor": "#506784",
            "ticks": ""
           },
           "baxis": {
            "gridcolor": "#506784",
            "linecolor": "#506784",
            "ticks": ""
           },
           "bgcolor": "rgb(17,17,17)",
           "caxis": {
            "gridcolor": "#506784",
            "linecolor": "#506784",
            "ticks": ""
           }
          },
          "title": {
           "x": 0.05
          },
          "updatemenudefaults": {
           "bgcolor": "#506784",
           "borderwidth": 0
          },
          "xaxis": {
           "automargin": true,
           "gridcolor": "#283442",
           "linecolor": "#506784",
           "ticks": "",
           "title": {
            "standoff": 15
           },
           "zerolinecolor": "#283442",
           "zerolinewidth": 2
          },
          "yaxis": {
           "automargin": true,
           "gridcolor": "#283442",
           "linecolor": "#506784",
           "ticks": "",
           "title": {
            "standoff": 15
           },
           "zerolinecolor": "#283442",
           "zerolinewidth": 2
          }
         }
        },
        "title": {
         "text": "Value Counts of classe_consommation_energie"
        },
        "width": 800,
        "xaxis": {
         "anchor": "y",
         "domain": [
          0,
          1
         ],
         "title": {
          "text": "classe_consommation_energie"
         }
        },
        "yaxis": {
         "anchor": "x",
         "domain": [
          0,
          1
         ],
         "title": {
          "text": "Count"
         }
        }
       }
      }
     },
     "metadata": {},
     "output_type": "display_data"
    }
   ],
   "source": [
    "value_counts = data['classe_consommation_energie'].value_counts().reset_index()\n",
    "\n",
    "value_counts.columns = ['classe_consommation_energie', 'Count']\n",
    "fig = px.bar(value_counts, \n",
    "             x='classe_consommation_energie', \n",
    "             y='Count', \n",
    "             title='Value Counts of classe_consommation_energie',\n",
    "             template='plotly_dark',\n",
    "             color_discrete_sequence=['#F63366'],\n",
    "             opacity=0.8,\n",
    "             width=800,\n",
    "             height=500)\n",
    "fig.show()"
   ]
  },
  {
   "cell_type": "code",
   "execution_count": 36,
   "metadata": {},
   "outputs": [
    {
     "data": {
      "application/vnd.plotly.v1+json": {
       "config": {
        "plotlyServerURL": "https://plot.ly"
       },
       "data": [
        {
         "alignmentgroup": "True",
         "hovertemplate": "tr002_type_batiment_description=%{x}<br>Count=%{y}<extra></extra>",
         "legendgroup": "",
         "marker": {
          "color": "#F63366",
          "opacity": 0.8,
          "pattern": {
           "shape": ""
          }
         },
         "name": "",
         "offsetgroup": "",
         "orientation": "v",
         "showlegend": false,
         "textposition": "auto",
         "type": "bar",
         "x": [
          "Logement",
          "Maison Individuelle",
          "Bâtiment collectif à usage principal d'habitation"
         ],
         "xaxis": "x",
         "y": [
          2575,
          328,
          41
         ],
         "yaxis": "y"
        }
       ],
       "layout": {
        "barmode": "relative",
        "hoverlabel": {
         "bgcolor": "white"
        },
        "legend": {
         "tracegroupgap": 0
        },
        "template": {
         "data": {
          "bar": [
           {
            "error_x": {
             "color": "#f2f5fa"
            },
            "error_y": {
             "color": "#f2f5fa"
            },
            "marker": {
             "line": {
              "color": "rgb(17,17,17)",
              "width": 0.5
             },
             "pattern": {
              "fillmode": "overlay",
              "size": 10,
              "solidity": 0.2
             }
            },
            "type": "bar"
           }
          ],
          "barpolar": [
           {
            "marker": {
             "line": {
              "color": "rgb(17,17,17)",
              "width": 0.5
             },
             "pattern": {
              "fillmode": "overlay",
              "size": 10,
              "solidity": 0.2
             }
            },
            "type": "barpolar"
           }
          ],
          "carpet": [
           {
            "aaxis": {
             "endlinecolor": "#A2B1C6",
             "gridcolor": "#506784",
             "linecolor": "#506784",
             "minorgridcolor": "#506784",
             "startlinecolor": "#A2B1C6"
            },
            "baxis": {
             "endlinecolor": "#A2B1C6",
             "gridcolor": "#506784",
             "linecolor": "#506784",
             "minorgridcolor": "#506784",
             "startlinecolor": "#A2B1C6"
            },
            "type": "carpet"
           }
          ],
          "choropleth": [
           {
            "colorbar": {
             "outlinewidth": 0,
             "ticks": ""
            },
            "type": "choropleth"
           }
          ],
          "contour": [
           {
            "colorbar": {
             "outlinewidth": 0,
             "ticks": ""
            },
            "colorscale": [
             [
              0,
              "#0d0887"
             ],
             [
              0.1111111111111111,
              "#46039f"
             ],
             [
              0.2222222222222222,
              "#7201a8"
             ],
             [
              0.3333333333333333,
              "#9c179e"
             ],
             [
              0.4444444444444444,
              "#bd3786"
             ],
             [
              0.5555555555555556,
              "#d8576b"
             ],
             [
              0.6666666666666666,
              "#ed7953"
             ],
             [
              0.7777777777777778,
              "#fb9f3a"
             ],
             [
              0.8888888888888888,
              "#fdca26"
             ],
             [
              1,
              "#f0f921"
             ]
            ],
            "type": "contour"
           }
          ],
          "contourcarpet": [
           {
            "colorbar": {
             "outlinewidth": 0,
             "ticks": ""
            },
            "type": "contourcarpet"
           }
          ],
          "heatmap": [
           {
            "colorbar": {
             "outlinewidth": 0,
             "ticks": ""
            },
            "colorscale": [
             [
              0,
              "#0d0887"
             ],
             [
              0.1111111111111111,
              "#46039f"
             ],
             [
              0.2222222222222222,
              "#7201a8"
             ],
             [
              0.3333333333333333,
              "#9c179e"
             ],
             [
              0.4444444444444444,
              "#bd3786"
             ],
             [
              0.5555555555555556,
              "#d8576b"
             ],
             [
              0.6666666666666666,
              "#ed7953"
             ],
             [
              0.7777777777777778,
              "#fb9f3a"
             ],
             [
              0.8888888888888888,
              "#fdca26"
             ],
             [
              1,
              "#f0f921"
             ]
            ],
            "type": "heatmap"
           }
          ],
          "heatmapgl": [
           {
            "colorbar": {
             "outlinewidth": 0,
             "ticks": ""
            },
            "colorscale": [
             [
              0,
              "#0d0887"
             ],
             [
              0.1111111111111111,
              "#46039f"
             ],
             [
              0.2222222222222222,
              "#7201a8"
             ],
             [
              0.3333333333333333,
              "#9c179e"
             ],
             [
              0.4444444444444444,
              "#bd3786"
             ],
             [
              0.5555555555555556,
              "#d8576b"
             ],
             [
              0.6666666666666666,
              "#ed7953"
             ],
             [
              0.7777777777777778,
              "#fb9f3a"
             ],
             [
              0.8888888888888888,
              "#fdca26"
             ],
             [
              1,
              "#f0f921"
             ]
            ],
            "type": "heatmapgl"
           }
          ],
          "histogram": [
           {
            "marker": {
             "pattern": {
              "fillmode": "overlay",
              "size": 10,
              "solidity": 0.2
             }
            },
            "type": "histogram"
           }
          ],
          "histogram2d": [
           {
            "colorbar": {
             "outlinewidth": 0,
             "ticks": ""
            },
            "colorscale": [
             [
              0,
              "#0d0887"
             ],
             [
              0.1111111111111111,
              "#46039f"
             ],
             [
              0.2222222222222222,
              "#7201a8"
             ],
             [
              0.3333333333333333,
              "#9c179e"
             ],
             [
              0.4444444444444444,
              "#bd3786"
             ],
             [
              0.5555555555555556,
              "#d8576b"
             ],
             [
              0.6666666666666666,
              "#ed7953"
             ],
             [
              0.7777777777777778,
              "#fb9f3a"
             ],
             [
              0.8888888888888888,
              "#fdca26"
             ],
             [
              1,
              "#f0f921"
             ]
            ],
            "type": "histogram2d"
           }
          ],
          "histogram2dcontour": [
           {
            "colorbar": {
             "outlinewidth": 0,
             "ticks": ""
            },
            "colorscale": [
             [
              0,
              "#0d0887"
             ],
             [
              0.1111111111111111,
              "#46039f"
             ],
             [
              0.2222222222222222,
              "#7201a8"
             ],
             [
              0.3333333333333333,
              "#9c179e"
             ],
             [
              0.4444444444444444,
              "#bd3786"
             ],
             [
              0.5555555555555556,
              "#d8576b"
             ],
             [
              0.6666666666666666,
              "#ed7953"
             ],
             [
              0.7777777777777778,
              "#fb9f3a"
             ],
             [
              0.8888888888888888,
              "#fdca26"
             ],
             [
              1,
              "#f0f921"
             ]
            ],
            "type": "histogram2dcontour"
           }
          ],
          "mesh3d": [
           {
            "colorbar": {
             "outlinewidth": 0,
             "ticks": ""
            },
            "type": "mesh3d"
           }
          ],
          "parcoords": [
           {
            "line": {
             "colorbar": {
              "outlinewidth": 0,
              "ticks": ""
             }
            },
            "type": "parcoords"
           }
          ],
          "pie": [
           {
            "automargin": true,
            "type": "pie"
           }
          ],
          "scatter": [
           {
            "marker": {
             "line": {
              "color": "#283442"
             }
            },
            "type": "scatter"
           }
          ],
          "scatter3d": [
           {
            "line": {
             "colorbar": {
              "outlinewidth": 0,
              "ticks": ""
             }
            },
            "marker": {
             "colorbar": {
              "outlinewidth": 0,
              "ticks": ""
             }
            },
            "type": "scatter3d"
           }
          ],
          "scattercarpet": [
           {
            "marker": {
             "colorbar": {
              "outlinewidth": 0,
              "ticks": ""
             }
            },
            "type": "scattercarpet"
           }
          ],
          "scattergeo": [
           {
            "marker": {
             "colorbar": {
              "outlinewidth": 0,
              "ticks": ""
             }
            },
            "type": "scattergeo"
           }
          ],
          "scattergl": [
           {
            "marker": {
             "line": {
              "color": "#283442"
             }
            },
            "type": "scattergl"
           }
          ],
          "scattermapbox": [
           {
            "marker": {
             "colorbar": {
              "outlinewidth": 0,
              "ticks": ""
             }
            },
            "type": "scattermapbox"
           }
          ],
          "scatterpolar": [
           {
            "marker": {
             "colorbar": {
              "outlinewidth": 0,
              "ticks": ""
             }
            },
            "type": "scatterpolar"
           }
          ],
          "scatterpolargl": [
           {
            "marker": {
             "colorbar": {
              "outlinewidth": 0,
              "ticks": ""
             }
            },
            "type": "scatterpolargl"
           }
          ],
          "scatterternary": [
           {
            "marker": {
             "colorbar": {
              "outlinewidth": 0,
              "ticks": ""
             }
            },
            "type": "scatterternary"
           }
          ],
          "surface": [
           {
            "colorbar": {
             "outlinewidth": 0,
             "ticks": ""
            },
            "colorscale": [
             [
              0,
              "#0d0887"
             ],
             [
              0.1111111111111111,
              "#46039f"
             ],
             [
              0.2222222222222222,
              "#7201a8"
             ],
             [
              0.3333333333333333,
              "#9c179e"
             ],
             [
              0.4444444444444444,
              "#bd3786"
             ],
             [
              0.5555555555555556,
              "#d8576b"
             ],
             [
              0.6666666666666666,
              "#ed7953"
             ],
             [
              0.7777777777777778,
              "#fb9f3a"
             ],
             [
              0.8888888888888888,
              "#fdca26"
             ],
             [
              1,
              "#f0f921"
             ]
            ],
            "type": "surface"
           }
          ],
          "table": [
           {
            "cells": {
             "fill": {
              "color": "#506784"
             },
             "line": {
              "color": "rgb(17,17,17)"
             }
            },
            "header": {
             "fill": {
              "color": "#2a3f5f"
             },
             "line": {
              "color": "rgb(17,17,17)"
             }
            },
            "type": "table"
           }
          ]
         },
         "layout": {
          "annotationdefaults": {
           "arrowcolor": "#f2f5fa",
           "arrowhead": 0,
           "arrowwidth": 1
          },
          "autotypenumbers": "strict",
          "coloraxis": {
           "colorbar": {
            "outlinewidth": 0,
            "ticks": ""
           }
          },
          "colorscale": {
           "diverging": [
            [
             0,
             "#8e0152"
            ],
            [
             0.1,
             "#c51b7d"
            ],
            [
             0.2,
             "#de77ae"
            ],
            [
             0.3,
             "#f1b6da"
            ],
            [
             0.4,
             "#fde0ef"
            ],
            [
             0.5,
             "#f7f7f7"
            ],
            [
             0.6,
             "#e6f5d0"
            ],
            [
             0.7,
             "#b8e186"
            ],
            [
             0.8,
             "#7fbc41"
            ],
            [
             0.9,
             "#4d9221"
            ],
            [
             1,
             "#276419"
            ]
           ],
           "sequential": [
            [
             0,
             "#0d0887"
            ],
            [
             0.1111111111111111,
             "#46039f"
            ],
            [
             0.2222222222222222,
             "#7201a8"
            ],
            [
             0.3333333333333333,
             "#9c179e"
            ],
            [
             0.4444444444444444,
             "#bd3786"
            ],
            [
             0.5555555555555556,
             "#d8576b"
            ],
            [
             0.6666666666666666,
             "#ed7953"
            ],
            [
             0.7777777777777778,
             "#fb9f3a"
            ],
            [
             0.8888888888888888,
             "#fdca26"
            ],
            [
             1,
             "#f0f921"
            ]
           ],
           "sequentialminus": [
            [
             0,
             "#0d0887"
            ],
            [
             0.1111111111111111,
             "#46039f"
            ],
            [
             0.2222222222222222,
             "#7201a8"
            ],
            [
             0.3333333333333333,
             "#9c179e"
            ],
            [
             0.4444444444444444,
             "#bd3786"
            ],
            [
             0.5555555555555556,
             "#d8576b"
            ],
            [
             0.6666666666666666,
             "#ed7953"
            ],
            [
             0.7777777777777778,
             "#fb9f3a"
            ],
            [
             0.8888888888888888,
             "#fdca26"
            ],
            [
             1,
             "#f0f921"
            ]
           ]
          },
          "colorway": [
           "#636efa",
           "#EF553B",
           "#00cc96",
           "#ab63fa",
           "#FFA15A",
           "#19d3f3",
           "#FF6692",
           "#B6E880",
           "#FF97FF",
           "#FECB52"
          ],
          "font": {
           "color": "#f2f5fa"
          },
          "geo": {
           "bgcolor": "rgb(17,17,17)",
           "lakecolor": "rgb(17,17,17)",
           "landcolor": "rgb(17,17,17)",
           "showlakes": true,
           "showland": true,
           "subunitcolor": "#506784"
          },
          "hoverlabel": {
           "align": "left"
          },
          "hovermode": "closest",
          "mapbox": {
           "style": "dark"
          },
          "paper_bgcolor": "rgb(17,17,17)",
          "plot_bgcolor": "rgb(17,17,17)",
          "polar": {
           "angularaxis": {
            "gridcolor": "#506784",
            "linecolor": "#506784",
            "ticks": ""
           },
           "bgcolor": "rgb(17,17,17)",
           "radialaxis": {
            "gridcolor": "#506784",
            "linecolor": "#506784",
            "ticks": ""
           }
          },
          "scene": {
           "xaxis": {
            "backgroundcolor": "rgb(17,17,17)",
            "gridcolor": "#506784",
            "gridwidth": 2,
            "linecolor": "#506784",
            "showbackground": true,
            "ticks": "",
            "zerolinecolor": "#C8D4E3"
           },
           "yaxis": {
            "backgroundcolor": "rgb(17,17,17)",
            "gridcolor": "#506784",
            "gridwidth": 2,
            "linecolor": "#506784",
            "showbackground": true,
            "ticks": "",
            "zerolinecolor": "#C8D4E3"
           },
           "zaxis": {
            "backgroundcolor": "rgb(17,17,17)",
            "gridcolor": "#506784",
            "gridwidth": 2,
            "linecolor": "#506784",
            "showbackground": true,
            "ticks": "",
            "zerolinecolor": "#C8D4E3"
           }
          },
          "shapedefaults": {
           "line": {
            "color": "#f2f5fa"
           }
          },
          "sliderdefaults": {
           "bgcolor": "#C8D4E3",
           "bordercolor": "rgb(17,17,17)",
           "borderwidth": 1,
           "tickwidth": 0
          },
          "ternary": {
           "aaxis": {
            "gridcolor": "#506784",
            "linecolor": "#506784",
            "ticks": ""
           },
           "baxis": {
            "gridcolor": "#506784",
            "linecolor": "#506784",
            "ticks": ""
           },
           "bgcolor": "rgb(17,17,17)",
           "caxis": {
            "gridcolor": "#506784",
            "linecolor": "#506784",
            "ticks": ""
           }
          },
          "title": {
           "x": 0.05
          },
          "updatemenudefaults": {
           "bgcolor": "#506784",
           "borderwidth": 0
          },
          "xaxis": {
           "automargin": true,
           "gridcolor": "#283442",
           "linecolor": "#506784",
           "ticks": "",
           "title": {
            "standoff": 15
           },
           "zerolinecolor": "#283442",
           "zerolinewidth": 2
          },
          "yaxis": {
           "automargin": true,
           "gridcolor": "#283442",
           "linecolor": "#506784",
           "ticks": "",
           "title": {
            "standoff": 15
           },
           "zerolinecolor": "#283442",
           "zerolinewidth": 2
          }
         }
        },
        "title": {
         "text": "Value Counts of building type"
        },
        "xaxis": {
         "anchor": "y",
         "domain": [
          0,
          1
         ],
         "title": {
          "text": "Building type"
         }
        },
        "yaxis": {
         "anchor": "x",
         "domain": [
          0,
          1
         ],
         "title": {
          "text": "Count"
         }
        }
       }
      }
     },
     "metadata": {},
     "output_type": "display_data"
    }
   ],
   "source": [
    "value_counts = data['tr002_type_batiment_description'].value_counts().reset_index()\n",
    "\n",
    "value_counts.columns = ['tr002_type_batiment_description', 'Count']\n",
    "fig = px.bar(value_counts, \n",
    "             x='tr002_type_batiment_description', \n",
    "             y='Count', \n",
    "             title='Value Counts of building type',\n",
    "             template='plotly_dark',\n",
    "             color_discrete_sequence=['#F63366'],\n",
    "             opacity=0.8)\n",
    "\n",
    "\n",
    "fig.update_layout(\n",
    "    title=\"Value Counts of building type\",\n",
    "    xaxis_title=\"Building type\",\n",
    "    yaxis_title=\"Count\",\n",
    "    hoverlabel_bgcolor='white'\n",
    "    )\n",
    "\n",
    "fig.show()"
   ]
  },
  {
   "cell_type": "code",
   "execution_count": 52,
   "metadata": {},
   "outputs": [
    {
     "data": {
      "application/vnd.plotly.v1+json": {
       "config": {
        "plotlyServerURL": "https://plot.ly"
       },
       "data": [
        {
         "alignmentgroup": "True",
         "bingroup": "x",
         "histfunc": "sum",
         "hovertemplate": "consommation_energie=%{x}<br>sum of Count=%{y}<extra></extra>",
         "legendgroup": "",
         "marker": {
          "color": "#F63366",
          "opacity": 0.8,
          "pattern": {
           "shape": ""
          }
         },
         "name": "",
         "offsetgroup": "",
         "orientation": "v",
         "showlegend": false,
         "type": "histogram",
         "x": [
          80.1,
          62.7,
          76.85,
          78.74,
          66.51,
          83.83,
          58.55,
          60.82,
          65.99,
          56.67,
          59.6,
          52.63,
          56.8,
          43.07,
          44.55,
          65.29,
          67.78,
          56.33,
          65.51,
          59.59,
          91.43,
          70.8,
          79.66,
          83.74,
          99.13,
          80.09,
          62.4,
          72.28,
          130.39,
          143.89,
          61.03,
          76.31,
          88.02,
          66.62,
          77.35,
          71.6,
          240,
          128.88,
          226,
          98.77,
          99.24,
          268,
          274,
          76.69,
          74.88,
          190,
          75.02,
          234,
          228,
          71.58,
          143.9,
          270,
          232.34,
          216,
          87.47,
          227,
          140.47,
          321,
          58.17,
          433,
          178,
          84.4,
          143.81,
          76.76,
          189,
          87.65,
          82.62,
          62.69,
          61.84,
          175,
          113.8,
          72.23,
          260,
          76.73,
          154,
          78.53,
          72.1,
          120.62,
          223,
          65.95,
          90.15,
          212,
          80.84,
          72.14,
          156.29,
          172,
          136.57,
          72.16,
          142,
          271,
          76.01,
          200,
          72.42,
          56.07,
          92.39,
          441,
          155.8,
          350,
          328,
          66.87,
          82.55,
          180.02,
          82.61,
          443,
          78.43,
          77.53,
          72.54,
          56.85,
          79.05,
          341,
          80.37,
          69.85,
          59.28,
          60.64,
          286,
          60.42,
          323,
          81.05,
          362,
          71.82,
          61.58,
          69.3,
          254,
          73.15,
          84.37,
          77.29,
          324,
          80.83,
          62.39,
          240.43,
          78.35,
          426,
          80.27,
          75.52,
          72.49,
          78.94,
          250,
          177.19,
          79.16,
          255,
          129.35,
          143.74,
          81.95,
          151,
          78.7,
          59.54,
          84.13,
          85.67,
          167,
          117.71,
          109.65,
          77.15,
          317,
          82.86,
          91.08,
          87.99,
          121.54,
          80.35,
          122.59,
          92.35,
          106.46,
          98.42,
          115.49,
          79.23,
          411,
          74.93,
          143.7,
          430,
          214,
          219.77,
          143.71,
          143.66,
          143.76,
          57.13,
          372,
          81.23,
          270.3,
          79.94,
          92.62,
          211,
          144.96,
          311,
          144.61,
          130.64,
          129.87,
          143.99,
          193,
          70.68,
          129.97,
          143.86,
          72.07,
          67.86,
          77.8,
          55.62,
          340,
          83.49,
          55.9,
          62.15,
          253,
          185,
          75.85,
          210.95,
          767.87,
          80.34,
          82.29,
          85.4,
          297,
          70.85,
          278,
          152,
          307,
          73.2,
          59.1,
          54.05,
          69.16,
          93.63,
          79.03,
          66.43,
          65.34,
          64.58,
          75.26,
          64.92,
          69.83,
          75.08,
          84.73,
          84.76,
          67.73,
          52.45,
          62.53,
          59.56,
          52.93,
          61.64,
          204.48,
          77.11,
          156.79,
          83.99,
          54.77,
          229,
          60.92,
          63,
          81.11,
          102.3,
          129.55,
          110.05,
          116.55,
          124.07,
          97.77,
          105.32,
          109.79,
          95.78,
          105.11,
          215.25,
          111.13,
          93.73,
          98.95,
          106.53,
          259,
          118.27,
          84.49,
          119.89,
          92.12,
          177,
          89.29,
          84.65,
          76.74,
          58.98,
          120.21,
          84.59,
          74.47,
          75.93,
          157,
          439,
          182,
          67.2,
          91.39,
          51.26,
          232,
          77.21,
          74.3,
          336.46,
          68.9,
          85.82,
          78.78,
          87.48,
          109.17,
          73.83,
          83.92,
          87.41,
          78.54,
          63.23,
          89.31,
          83.82,
          93.22,
          84.22,
          95.16,
          90.22,
          89.13,
          94.85,
          89.19,
          86.57,
          77.57,
          77.55,
          81.66,
          83.44,
          93.21,
          102.11,
          96.72,
          73.71,
          80.12,
          65.09,
          72.65,
          87.23,
          69.63,
          61.9,
          78.82,
          73.98,
          74.1,
          69.8,
          64.81,
          66.76,
          60.49,
          66.75,
          65.49,
          65.26,
          71.34,
          73.31,
          196.56,
          102.18,
          69.1,
          90.38,
          80.29,
          76.24,
          73.47,
          79.43,
          82.74,
          104.85,
          60.05,
          91.33,
          84.44,
          108.69,
          87.6,
          69.41,
          72.91,
          80.67,
          77.77,
          99.14,
          90.05,
          81.91,
          66.84,
          74.05,
          74.84,
          81.06,
          75.15,
          62.48,
          106.5,
          98.37,
          72.13,
          90.93,
          95.03,
          96.33,
          87.19,
          100.25,
          70.09,
          86.6,
          69.96,
          83.56,
          70.17,
          93.01,
          116.21,
          85.93,
          93.08,
          61.78,
          92.41,
          75.11,
          74.67,
          96,
          66.15,
          86.83,
          79.57,
          95.01,
          68.21,
          88.78,
          82.52,
          98.52,
          74.06,
          101.28,
          99.2,
          75.47,
          89.86,
          93.18,
          81.99,
          65.82,
          69.57,
          67.7,
          68.83,
          72.45,
          98.29,
          107,
          76.96,
          102.08,
          86.74,
          68.54,
          70.49,
          60.61,
          70.6,
          61.73,
          61.7,
          58.26,
          58.11,
          62.02,
          53.91,
          61.24,
          55.45,
          89.69,
          65.44,
          56.79,
          65.07,
          66.57,
          92.9,
          81.47,
          88.51,
          94.35,
          81.44,
          73.52,
          60.13,
          74.64,
          74.41,
          74.55,
          62.38,
          55.65,
          56.45,
          85.49,
          276.54,
          86.24,
          69.31,
          78.13,
          94.7,
          68.42,
          88.39,
          67.74,
          82.08,
          64.38,
          80.75,
          63.01,
          76.55,
          88.16,
          65.24,
          80.52,
          64.56,
          68.63,
          70.4,
          72.34,
          80.3,
          64.44,
          89.77,
          76.06,
          85.3,
          98.03,
          82.69,
          71.76,
          92.18,
          82.25,
          66.05,
          65.79,
          67,
          65.4,
          65.17,
          55.68,
          79.62,
          55.97,
          56.5,
          63.71,
          68.53,
          63.51,
          49.21,
          91.16,
          60.06,
          67.59,
          89.51,
          68.75,
          61.41,
          56.27,
          74.71,
          77.07,
          62.73,
          83.5,
          66.04,
          72,
          76.13,
          62.84,
          74,
          53.36,
          62.85,
          75.09,
          67.53,
          62.65,
          64.85,
          48.76,
          59.3,
          67.01,
          81.87,
          92.3,
          63.7,
          58.94,
          78.77,
          71.09,
          87.15,
          58.31,
          95.83,
          57.9,
          56.39,
          59.4,
          58.24,
          59.01,
          74.12,
          55.38,
          57.42,
          58.56,
          53.94,
          105.52,
          82.73,
          90.07,
          56.25,
          56.32,
          54.56,
          98.34,
          54.81,
          83.73,
          79.9,
          56.18,
          87.2,
          77.38,
          88.84,
          336.56,
          88.66,
          73.41,
          77.88,
          77.85,
          77.66,
          89.82,
          81.74,
          88.27,
          78.39,
          98.21,
          75.63,
          67.77,
          82.65,
          80.26,
          83.86,
          78.31,
          91.45,
          78.16,
          88.26,
          81.22,
          86.32,
          80.99,
          71.79,
          88.74,
          107.19,
          104.74,
          412.12,
          67.83,
          66.71,
          66.44,
          68.33,
          67.87,
          73.28,
          76.57,
          54.12,
          415.65,
          173.79,
          93.81,
          103,
          90.74,
          96.24,
          91.41,
          109.05,
          99.88,
          92.29,
          94.28,
          93.77,
          86.09,
          86.45,
          79.98,
          207.22,
          223.7,
          212.95,
          273.8,
          374.13,
          220.68,
          344.91,
          160,
          224.66,
          268.06,
          261.16,
          250.7,
          283.74,
          364,
          376.74,
          305.49,
          448.19,
          234.8,
          279.4,
          62.32,
          60.21,
          321.71,
          262.69,
          76.71,
          97.84,
          81.6,
          95.54,
          97.04,
          99.48,
          84.97,
          103.72,
          93.71,
          89.02,
          83.03,
          94.89,
          207,
          104.09,
          79.97,
          85.28,
          128.37,
          147.26,
          232.5,
          229.16,
          131.8,
          273,
          63.13,
          63.07,
          83.19,
          72.12,
          281,
          57.25,
          53.1,
          52.18,
          51.46,
          49.71,
          53.78,
          82.07,
          79.33,
          85.76,
          83.6,
          74.86,
          78.24,
          75.27,
          76.21,
          79,
          72.68,
          69.62,
          65.48,
          63.64,
          60.59,
          193.22,
          238.43,
          220.91,
          196.16,
          57.99,
          188.97,
          157.83,
          274.5,
          326.67,
          54.17,
          48.98,
          422,
          249.58,
          323.5,
          261.11,
          307.17,
          68,
          301.89,
          342,
          219,
          346.88,
          242.52,
          299.53,
          256.86,
          55.16,
          55.88,
          53.7,
          71.45,
          69.73,
          73.62,
          68.46,
          60.8,
          64.47,
          82.56,
          88.49,
          81.52,
          79.28,
          71.41,
          67.5,
          75.41,
          78.28,
          659.3,
          217.16,
          356,
          294.2,
          59.48,
          57.87,
          63.62,
          69.55,
          59.22,
          54.07,
          43.44,
          286.63,
          180.85,
          449.34,
          141.1,
          313.18,
          198.92,
          54.89,
          57.58,
          59.39,
          61.56,
          90.27,
          52.89,
          75.16,
          70.96,
          76.4,
          53.63,
          71.3,
          52.03,
          56.61,
          64.63,
          61.89,
          58.87,
          56.73,
          58.28,
          66.69,
          62.51,
          68.87,
          52.37,
          66.23,
          49.68,
          62.87,
          58.32,
          181,
          167.16,
          526.92,
          407.68,
          355.27,
          210,
          173.47,
          75.53,
          255.49,
          300.76,
          85.24,
          466,
          44.31,
          66.82,
          84.78,
          53.47,
          73.14,
          58.82,
          68.7,
          52.15,
          59.42,
          75.25,
          74.11,
          65.66,
          68.02,
          55.89,
          50.04,
          68.41,
          52.78,
          99.5,
          91.34,
          124,
          74.03,
          62.22,
          72.56,
          82.37,
          59.65,
          198.67,
          327.84,
          163.84,
          83.07,
          92.58,
          98.51,
          88.99,
          78.49,
          69.69,
          69.12,
          73.45,
          75.49,
          90.89,
          75.91,
          87.57,
          75.69,
          80.17,
          77.73,
          86.63,
          77.32,
          79.67,
          84.3,
          87.3,
          76.58,
          85.89,
          92.36,
          252.1,
          84.95,
          222.21,
          252.12,
          248,
          181.18,
          155.78,
          220.52,
          295,
          96.06,
          87.94,
          90.99,
          100.53,
          82.77,
          90.53,
          94.2,
          81.4,
          80.77,
          85.46,
          92.43,
          100.06,
          95.92,
          70.46,
          72.5,
          94.51,
          143.73,
          143.75,
          144.82,
          156.78,
          144.39,
          144.14,
          144.66,
          144.7,
          145.04,
          144.91,
          143.77,
          252.76,
          143.42,
          143.83,
          144.22,
          147.89,
          145.07,
          144.23,
          143.69,
          144.32,
          186.65,
          244.2,
          245.5,
          144.94,
          69.72,
          62.11,
          57.81,
          53.3,
          86.46,
          90.81,
          59.89,
          84.55,
          66.67,
          75.59,
          77.28,
          241,
          77.22,
          75.9,
          77.62,
          69.58,
          70.21,
          81.41,
          72.84,
          170.41,
          153.85,
          144.64,
          155.97,
          60.62,
          70.62,
          129.58,
          143.6,
          143.22,
          130.11,
          140.58,
          130.24,
          145.11,
          470,
          72.67,
          71.72,
          141.44,
          77.03,
          73.09,
          61.02,
          60.07,
          65.32,
          52.88,
          64.68,
          69.67,
          61.87,
          142.81,
          130.77,
          130.19,
          130.18,
          130.37,
          129.44,
          129.89,
          130.34,
          129.99,
          130.15,
          129.75,
          129.77,
          130.02,
          130,
          129.52,
          130.62,
          129.92,
          129.57,
          140.36,
          130.28,
          143.62,
          133.4,
          129.61,
          130.43,
          83.72,
          80.8,
          77.98,
          443.27,
          253.2,
          476,
          442.06,
          124.53,
          170.5,
          395.95,
          383.47,
          230.3,
          618,
          456.55,
          174.85,
          323.61,
          238.69,
          146,
          315.46,
          143,
          275.57,
          322.27,
          195.49,
          284.99,
          285,
          264,
          300.15,
          135.95,
          112.66,
          313.86,
          183.88,
          324.16,
          173,
          187.84,
          264.56,
          354.65,
          286.74,
          303.98,
          297.49,
          70,
          177.42,
          60.31,
          51.03,
          322.88,
          336.63,
          234.89,
          442,
          229.63,
          290.22,
          465.37,
          242.97,
          206.21,
          289.66,
          226.22,
          449,
          439.95,
          373.23,
          253.53,
          273.17,
          326.2,
          383.01,
          440.41,
          307.91,
          798,
          576.73,
          304.86,
          269,
          354,
          180.34,
          454,
          490,
          215.96,
          448,
          339,
          206.74,
          246.51,
          235,
          303.77,
          261.76,
          149,
          330,
          304,
          441.6,
          325.43,
          273.03,
          389.55,
          182.65,
          312.14,
          144,
          380.2,
          434,
          355,
          371.83,
          406.98,
          406,
          71.36,
          194.86,
          180.92,
          345.05,
          403.09,
          324.6,
          365,
          276.19,
          224.2,
          267.97,
          228.21,
          270.39,
          336,
          243.03,
          247.95,
          250.92,
          247.53,
          270.42,
          265.41,
          867.22,
          395.62,
          71.88,
          318.25,
          402.94,
          925.93,
          215.28,
          287.42,
          123.5,
          447.05,
          638,
          207.55,
          473,
          288.66,
          48.3,
          442.79,
          203,
          267,
          323.22,
          320.51,
          160.11,
          554,
          158.89,
          342.91,
          417.74,
          164,
          171.56,
          277.89,
          313.92,
          194.47,
          307.57,
          247.42,
          198,
          403.35,
          214.28,
          304.41,
          287.64,
          299.26,
          313.79,
          233.72,
          353.15,
          353.45,
          706,
          117.53,
          408,
          871,
          400.41,
          247.92,
          547,
          407,
          383.09,
          426.1,
          477,
          337.6,
          266.14,
          416,
          290.42,
          611,
          528,
          50.11,
          197,
          58.75,
          291.53,
          358.58,
          421,
          370.64,
          342.5,
          437,
          244.04,
          276.75,
          621.33,
          295.1,
          117.1,
          404.55,
          413.23,
          286.11,
          224.39,
          203.09,
          400.78,
          164.25,
          66.93,
          265.16,
          217.42,
          184,
          406.05,
          244.87,
          188.89,
          411.18,
          319.85,
          164.6,
          149.07,
          149.44,
          223.12,
          320.4,
          256,
          302.67,
          203.36,
          380.25,
          208,
          250.15,
          957,
          401.38,
          337.92,
          178.72,
          373.09,
          291,
          179,
          231.84,
          162.29,
          175.45,
          323.55,
          213,
          136,
          313.52,
          295.28,
          313.76,
          286.6,
          200.47,
          169.93,
          159,
          221.23,
          137.63,
          91.7,
          149.2,
          308.66,
          188,
          219.68,
          156.25,
          132.18,
          135.67,
          70.89,
          64.22,
          66.17,
          58.57,
          52.38,
          40.7,
          223.37,
          220.36,
          67.03,
          319.65,
          238.32,
          270.07,
          207.3,
          230.27,
          287.37,
          255.44,
          176.57,
          172.21,
          208.18,
          522.6,
          435.98,
          251,
          403.89,
          107.79,
          222.47,
          455.93,
          221.56,
          346.37,
          389.21,
          230.07,
          389.54,
          218,
          308.63,
          172.16,
          109,
          282.57,
          261,
          279.33,
          207.85,
          221.87,
          199.05,
          432.21,
          319.24,
          226.73,
          161,
          284.24,
          313.4,
          213.31,
          278.13,
          341.99,
          323.51,
          297.02,
          323.87,
          300.95,
          228.82,
          424.86,
          248.84,
          63.72,
          206,
          358.24,
          228.72,
          420.62,
          200.83,
          282.32,
          349.4,
          162,
          326,
          363,
          304.05,
          352,
          196,
          79.79,
          280,
          258.83,
          205.21,
          295.04,
          301.48,
          212.79,
          65.59,
          74.33,
          171.11,
          326.36,
          262.74,
          359.74,
          529.08,
          298,
          290,
          539,
          133.55,
          200.94,
          233,
          198.2,
          245.04,
          147.03,
          184.76,
          170.49,
          173.37,
          176.47,
          176.17,
          172.48,
          176.04,
          249.59,
          392.62,
          61.86,
          209.93,
          56.36,
          49.59,
          61.69,
          72.96,
          73.51,
          63.63,
          62.95,
          57.14,
          62.71,
          57.36,
          59.51,
          67.35,
          59.02,
          66.24,
          69.27,
          63.36,
          316.27,
          321.58,
          319.76,
          285.73,
          166.44,
          78.4,
          81.28,
          89.56,
          89.9,
          83.34,
          72.53,
          80.45,
          79.41,
          67.41,
          71.53,
          70.25,
          67.29,
          76.15,
          82.19,
          82.31,
          68.98,
          76.29,
          94.34,
          73.06,
          77.12,
          226.97,
          81.61,
          85.42,
          50.42,
          76.81,
          82.1,
          81.71,
          81.29,
          91.03,
          83.45,
          69.6,
          74.22,
          72.72,
          69.18,
          72.98,
          71.7,
          69.2,
          77.56,
          76.28,
          89.06,
          84.39,
          70.42,
          79.89,
          81.14,
          134.75,
          59.38,
          78.85,
          82.18,
          84.28,
          77.72,
          87.55,
          82.78,
          86.02,
          81.92,
          80.08,
          86.04,
          226.94,
          291.72,
          216.8,
          364.47,
          363.72,
          224.51,
          169,
          229.08,
          221,
          291.28,
          228.32,
          85.05,
          76.44,
          155.31,
          76.6,
          309,
          313.36,
          276,
          99.09,
          97.99,
          86.44,
          86.86,
          93.87,
          82.75,
          80.78,
          79.85,
          78.21,
          89.43,
          85.84,
          86.48,
          94.05,
          99.7,
          85.39,
          82.94,
          83.17,
          88.54,
          318.45,
          354.39,
          317.41,
          427.07,
          638.6,
          395.93,
          186.53,
          186,
          306.75,
          94.17,
          67.47,
          95.04,
          83.23,
          77.52,
          70.19,
          78.66,
          63.97,
          75.98,
          84.75,
          62.37,
          66.07,
          166,
          421.67,
          71.29,
          353,
          89.85,
          97.19,
          88.03,
          78.15,
          96.18,
          297.62,
          2.26,
          321.49,
          323.79,
          32.91,
          250.12,
          229.58,
          50.24,
          231,
          119.39,
          243.39,
          432.18,
          374.85,
          371.92,
          72.44,
          75.73,
          89.44,
          68.24,
          63.32,
          65.85,
          66.2,
          64.65,
          63.27,
          75.64,
          220,
          89.35,
          88.71,
          81.86,
          77.08,
          67.75,
          72.4,
          71.94,
          72.63,
          92.73,
          78.88,
          72.95,
          70.41,
          62.72,
          66.45,
          85.43,
          66.88,
          86.29,
          75.88,
          87.39,
          89.59,
          64.41,
          63.5,
          64.24,
          68.89,
          81.8,
          64.13,
          64.29,
          64.35,
          71.47,
          75.71,
          90.6,
          86.07,
          88.52,
          92.95,
          68.58,
          297.28,
          311.97,
          175.85,
          115.14,
          127.95,
          97.49,
          122.82,
          284,
          291.69,
          270.65,
          320.68,
          121.76,
          285.38,
          189.29,
          171.54,
          176.61,
          323.81,
          299.27,
          328.12,
          129.33,
          348.27,
          202,
          311.86,
          117.89,
          125.48,
          314.84,
          114.4,
          117.3,
          122.86,
          109.6,
          124.63,
          114.01,
          120.08,
          127.54,
          122.11,
          122.65,
          130.2,
          107.06,
          101.33,
          94,
          93.64,
          115.13,
          116.99,
          131.96,
          115.25,
          124.64,
          153.65,
          211.77,
          130.63,
          323.83,
          577.11,
          247,
          365.22,
          385.94,
          428,
          421.7,
          185.56,
          288.04,
          246,
          245,
          139,
          308.91,
          314.72,
          450,
          180,
          248.97,
          320,
          251.56,
          199.3,
          263.76,
          275,
          317.23,
          192,
          329.31,
          228.95,
          151.99,
          321.24,
          410.35,
          340.79,
          312,
          244,
          220.95,
          160.03,
          286.41,
          394.17,
          439.09,
          239.59,
          239.55,
          441.03,
          315,
          170.44,
          155.87,
          108.68,
          119.96,
          312.36,
          63.12,
          73.49,
          61.76,
          75.6,
          68.82,
          77.42,
          76.36,
          71.96,
          88.41,
          81.27,
          74.02,
          85.36,
          66.35,
          72.41,
          66.77,
          60.46,
          78.69,
          72.17,
          67.09,
          67.55,
          55.78,
          251.88,
          63.21,
          239,
          422.23,
          257.61,
          213.05,
          336.03,
          330.16,
          281.23,
          328.69,
          154.67,
          153.49,
          281.09,
          217,
          89.5,
          711.56,
          47.33,
          698,
          283.35,
          235.49,
          591.78,
          272.17,
          85.38,
          87.98,
          96.78,
          137.45,
          158.85,
          151.56,
          138.1,
          147.76,
          137.11,
          154.15,
          156.33,
          145.35,
          108.63,
          123.6,
          86.31,
          117.85,
          123.18,
          94.22,
          118.05,
          91.97,
          126.17,
          98.44,
          115.23,
          136.15,
          132.83,
          57.31,
          131.44,
          80.58,
          94.77,
          293,
          315.1,
          409.57,
          274.51,
          358,
          218.26,
          217.11,
          235.19,
          172.46,
          296,
          238.81,
          52.21,
          110.36,
          99.64,
          155.55,
          139.13,
          155.12,
          90.83
         ],
         "xaxis": "x",
         "y": [
          118,
          101,
          91,
          85,
          78,
          58,
          42,
          36,
          31,
          30,
          28,
          27,
          26,
          23,
          20,
          18,
          17,
          16,
          11,
          11,
          10,
          10,
          9,
          8,
          7,
          7,
          6,
          6,
          5,
          5,
          5,
          4,
          4,
          4,
          4,
          4,
          4,
          4,
          4,
          4,
          4,
          4,
          3,
          3,
          3,
          3,
          3,
          3,
          3,
          3,
          3,
          3,
          3,
          3,
          3,
          3,
          3,
          3,
          3,
          3,
          3,
          3,
          3,
          3,
          3,
          3,
          3,
          3,
          3,
          3,
          3,
          3,
          3,
          3,
          3,
          3,
          3,
          3,
          3,
          3,
          3,
          3,
          3,
          3,
          3,
          3,
          3,
          3,
          3,
          3,
          2,
          2,
          2,
          2,
          2,
          2,
          2,
          2,
          2,
          2,
          2,
          2,
          2,
          2,
          2,
          2,
          2,
          2,
          2,
          2,
          2,
          2,
          2,
          2,
          2,
          2,
          2,
          2,
          2,
          2,
          2,
          2,
          2,
          2,
          2,
          2,
          2,
          2,
          2,
          2,
          2,
          2,
          2,
          2,
          2,
          2,
          2,
          2,
          2,
          2,
          2,
          2,
          2,
          2,
          2,
          2,
          2,
          2,
          2,
          2,
          2,
          2,
          2,
          2,
          2,
          2,
          2,
          2,
          2,
          2,
          2,
          2,
          2,
          2,
          2,
          2,
          2,
          2,
          2,
          2,
          2,
          2,
          2,
          2,
          2,
          2,
          2,
          2,
          2,
          2,
          2,
          2,
          2,
          2,
          2,
          2,
          2,
          2,
          2,
          2,
          2,
          2,
          2,
          2,
          2,
          2,
          2,
          2,
          2,
          2,
          2,
          2,
          2,
          2,
          2,
          2,
          2,
          2,
          2,
          2,
          2,
          2,
          2,
          2,
          2,
          2,
          2,
          2,
          2,
          2,
          2,
          2,
          2,
          2,
          2,
          2,
          2,
          2,
          2,
          2,
          2,
          2,
          2,
          2,
          2,
          2,
          2,
          2,
          2,
          2,
          2,
          2,
          2,
          2,
          2,
          2,
          2,
          2,
          2,
          2,
          2,
          2,
          2,
          2,
          2,
          2,
          2,
          2,
          2,
          2,
          2,
          2,
          2,
          2,
          2,
          2,
          2,
          2,
          2,
          2,
          2,
          2,
          2,
          2,
          2,
          2,
          2,
          2,
          2,
          2,
          1,
          1,
          1,
          1,
          1,
          1,
          1,
          1,
          1,
          1,
          1,
          1,
          1,
          1,
          1,
          1,
          1,
          1,
          1,
          1,
          1,
          1,
          1,
          1,
          1,
          1,
          1,
          1,
          1,
          1,
          1,
          1,
          1,
          1,
          1,
          1,
          1,
          1,
          1,
          1,
          1,
          1,
          1,
          1,
          1,
          1,
          1,
          1,
          1,
          1,
          1,
          1,
          1,
          1,
          1,
          1,
          1,
          1,
          1,
          1,
          1,
          1,
          1,
          1,
          1,
          1,
          1,
          1,
          1,
          1,
          1,
          1,
          1,
          1,
          1,
          1,
          1,
          1,
          1,
          1,
          1,
          1,
          1,
          1,
          1,
          1,
          1,
          1,
          1,
          1,
          1,
          1,
          1,
          1,
          1,
          1,
          1,
          1,
          1,
          1,
          1,
          1,
          1,
          1,
          1,
          1,
          1,
          1,
          1,
          1,
          1,
          1,
          1,
          1,
          1,
          1,
          1,
          1,
          1,
          1,
          1,
          1,
          1,
          1,
          1,
          1,
          1,
          1,
          1,
          1,
          1,
          1,
          1,
          1,
          1,
          1,
          1,
          1,
          1,
          1,
          1,
          1,
          1,
          1,
          1,
          1,
          1,
          1,
          1,
          1,
          1,
          1,
          1,
          1,
          1,
          1,
          1,
          1,
          1,
          1,
          1,
          1,
          1,
          1,
          1,
          1,
          1,
          1,
          1,
          1,
          1,
          1,
          1,
          1,
          1,
          1,
          1,
          1,
          1,
          1,
          1,
          1,
          1,
          1,
          1,
          1,
          1,
          1,
          1,
          1,
          1,
          1,
          1,
          1,
          1,
          1,
          1,
          1,
          1,
          1,
          1,
          1,
          1,
          1,
          1,
          1,
          1,
          1,
          1,
          1,
          1,
          1,
          1,
          1,
          1,
          1,
          1,
          1,
          1,
          1,
          1,
          1,
          1,
          1,
          1,
          1,
          1,
          1,
          1,
          1,
          1,
          1,
          1,
          1,
          1,
          1,
          1,
          1,
          1,
          1,
          1,
          1,
          1,
          1,
          1,
          1,
          1,
          1,
          1,
          1,
          1,
          1,
          1,
          1,
          1,
          1,
          1,
          1,
          1,
          1,
          1,
          1,
          1,
          1,
          1,
          1,
          1,
          1,
          1,
          1,
          1,
          1,
          1,
          1,
          1,
          1,
          1,
          1,
          1,
          1,
          1,
          1,
          1,
          1,
          1,
          1,
          1,
          1,
          1,
          1,
          1,
          1,
          1,
          1,
          1,
          1,
          1,
          1,
          1,
          1,
          1,
          1,
          1,
          1,
          1,
          1,
          1,
          1,
          1,
          1,
          1,
          1,
          1,
          1,
          1,
          1,
          1,
          1,
          1,
          1,
          1,
          1,
          1,
          1,
          1,
          1,
          1,
          1,
          1,
          1,
          1,
          1,
          1,
          1,
          1,
          1,
          1,
          1,
          1,
          1,
          1,
          1,
          1,
          1,
          1,
          1,
          1,
          1,
          1,
          1,
          1,
          1,
          1,
          1,
          1,
          1,
          1,
          1,
          1,
          1,
          1,
          1,
          1,
          1,
          1,
          1,
          1,
          1,
          1,
          1,
          1,
          1,
          1,
          1,
          1,
          1,
          1,
          1,
          1,
          1,
          1,
          1,
          1,
          1,
          1,
          1,
          1,
          1,
          1,
          1,
          1,
          1,
          1,
          1,
          1,
          1,
          1,
          1,
          1,
          1,
          1,
          1,
          1,
          1,
          1,
          1,
          1,
          1,
          1,
          1,
          1,
          1,
          1,
          1,
          1,
          1,
          1,
          1,
          1,
          1,
          1,
          1,
          1,
          1,
          1,
          1,
          1,
          1,
          1,
          1,
          1,
          1,
          1,
          1,
          1,
          1,
          1,
          1,
          1,
          1,
          1,
          1,
          1,
          1,
          1,
          1,
          1,
          1,
          1,
          1,
          1,
          1,
          1,
          1,
          1,
          1,
          1,
          1,
          1,
          1,
          1,
          1,
          1,
          1,
          1,
          1,
          1,
          1,
          1,
          1,
          1,
          1,
          1,
          1,
          1,
          1,
          1,
          1,
          1,
          1,
          1,
          1,
          1,
          1,
          1,
          1,
          1,
          1,
          1,
          1,
          1,
          1,
          1,
          1,
          1,
          1,
          1,
          1,
          1,
          1,
          1,
          1,
          1,
          1,
          1,
          1,
          1,
          1,
          1,
          1,
          1,
          1,
          1,
          1,
          1,
          1,
          1,
          1,
          1,
          1,
          1,
          1,
          1,
          1,
          1,
          1,
          1,
          1,
          1,
          1,
          1,
          1,
          1,
          1,
          1,
          1,
          1,
          1,
          1,
          1,
          1,
          1,
          1,
          1,
          1,
          1,
          1,
          1,
          1,
          1,
          1,
          1,
          1,
          1,
          1,
          1,
          1,
          1,
          1,
          1,
          1,
          1,
          1,
          1,
          1,
          1,
          1,
          1,
          1,
          1,
          1,
          1,
          1,
          1,
          1,
          1,
          1,
          1,
          1,
          1,
          1,
          1,
          1,
          1,
          1,
          1,
          1,
          1,
          1,
          1,
          1,
          1,
          1,
          1,
          1,
          1,
          1,
          1,
          1,
          1,
          1,
          1,
          1,
          1,
          1,
          1,
          1,
          1,
          1,
          1,
          1,
          1,
          1,
          1,
          1,
          1,
          1,
          1,
          1,
          1,
          1,
          1,
          1,
          1,
          1,
          1,
          1,
          1,
          1,
          1,
          1,
          1,
          1,
          1,
          1,
          1,
          1,
          1,
          1,
          1,
          1,
          1,
          1,
          1,
          1,
          1,
          1,
          1,
          1,
          1,
          1,
          1,
          1,
          1,
          1,
          1,
          1,
          1,
          1,
          1,
          1,
          1,
          1,
          1,
          1,
          1,
          1,
          1,
          1,
          1,
          1,
          1,
          1,
          1,
          1,
          1,
          1,
          1,
          1,
          1,
          1,
          1,
          1,
          1,
          1,
          1,
          1,
          1,
          1,
          1,
          1,
          1,
          1,
          1,
          1,
          1,
          1,
          1,
          1,
          1,
          1,
          1,
          1,
          1,
          1,
          1,
          1,
          1,
          1,
          1,
          1,
          1,
          1,
          1,
          1,
          1,
          1,
          1,
          1,
          1,
          1,
          1,
          1,
          1,
          1,
          1,
          1,
          1,
          1,
          1,
          1,
          1,
          1,
          1,
          1,
          1,
          1,
          1,
          1,
          1,
          1,
          1,
          1,
          1,
          1,
          1,
          1,
          1,
          1,
          1,
          1,
          1,
          1,
          1,
          1,
          1,
          1,
          1,
          1,
          1,
          1,
          1,
          1,
          1,
          1,
          1,
          1,
          1,
          1,
          1,
          1,
          1,
          1,
          1,
          1,
          1,
          1,
          1,
          1,
          1,
          1,
          1,
          1,
          1,
          1,
          1,
          1,
          1,
          1,
          1,
          1,
          1,
          1,
          1,
          1,
          1,
          1,
          1,
          1,
          1,
          1,
          1,
          1,
          1,
          1,
          1,
          1,
          1,
          1,
          1,
          1,
          1,
          1,
          1,
          1,
          1,
          1,
          1,
          1,
          1,
          1,
          1,
          1,
          1,
          1,
          1,
          1,
          1,
          1,
          1,
          1,
          1,
          1,
          1,
          1,
          1,
          1,
          1,
          1,
          1,
          1,
          1,
          1,
          1,
          1,
          1,
          1,
          1,
          1,
          1,
          1,
          1,
          1,
          1,
          1,
          1,
          1,
          1,
          1,
          1,
          1,
          1,
          1,
          1,
          1,
          1,
          1,
          1,
          1,
          1,
          1,
          1,
          1,
          1,
          1,
          1,
          1,
          1,
          1,
          1,
          1,
          1,
          1,
          1,
          1,
          1,
          1,
          1,
          1,
          1,
          1,
          1,
          1,
          1,
          1,
          1,
          1,
          1,
          1,
          1,
          1,
          1,
          1,
          1,
          1,
          1,
          1,
          1,
          1,
          1,
          1,
          1,
          1,
          1,
          1,
          1,
          1,
          1,
          1,
          1,
          1,
          1,
          1,
          1,
          1,
          1,
          1,
          1,
          1,
          1,
          1,
          1,
          1,
          1,
          1,
          1,
          1,
          1,
          1,
          1,
          1,
          1,
          1,
          1,
          1,
          1,
          1,
          1,
          1,
          1,
          1,
          1,
          1,
          1,
          1,
          1,
          1,
          1,
          1,
          1,
          1,
          1,
          1,
          1,
          1,
          1,
          1,
          1,
          1,
          1,
          1,
          1,
          1,
          1,
          1,
          1,
          1,
          1,
          1,
          1,
          1,
          1,
          1,
          1,
          1,
          1,
          1,
          1,
          1,
          1,
          1,
          1,
          1,
          1,
          1,
          1,
          1,
          1,
          1,
          1,
          1,
          1,
          1,
          1,
          1,
          1,
          1,
          1,
          1,
          1,
          1,
          1,
          1,
          1,
          1,
          1,
          1,
          1,
          1,
          1,
          1,
          1,
          1,
          1,
          1,
          1,
          1,
          1,
          1,
          1,
          1,
          1,
          1,
          1,
          1,
          1,
          1,
          1,
          1,
          1,
          1,
          1,
          1,
          1,
          1,
          1,
          1,
          1,
          1,
          1,
          1,
          1,
          1,
          1,
          1,
          1,
          1,
          1,
          1,
          1,
          1,
          1,
          1,
          1,
          1,
          1,
          1,
          1,
          1,
          1,
          1,
          1,
          1,
          1,
          1,
          1,
          1,
          1,
          1,
          1,
          1,
          1,
          1,
          1,
          1,
          1,
          1,
          1,
          1,
          1,
          1,
          1,
          1,
          1,
          1,
          1,
          1,
          1,
          1,
          1,
          1,
          1,
          1,
          1,
          1,
          1,
          1,
          1,
          1,
          1,
          1,
          1,
          1,
          1,
          1,
          1,
          1,
          1,
          1,
          1,
          1,
          1,
          1,
          1,
          1,
          1,
          1,
          1,
          1,
          1,
          1,
          1,
          1,
          1,
          1,
          1,
          1,
          1,
          1,
          1,
          1,
          1,
          1,
          1,
          1,
          1,
          1,
          1,
          1,
          1,
          1,
          1,
          1,
          1,
          1,
          1,
          1,
          1,
          1,
          1,
          1,
          1,
          1,
          1,
          1,
          1,
          1,
          1,
          1,
          1,
          1,
          1,
          1,
          1,
          1,
          1,
          1,
          1,
          1,
          1,
          1,
          1,
          1,
          1,
          1,
          1,
          1,
          1,
          1,
          1,
          1,
          1,
          1,
          1,
          1,
          1,
          1,
          1,
          1,
          1,
          1,
          1,
          1,
          1,
          1,
          1,
          1,
          1,
          1,
          1,
          1,
          1,
          1,
          1,
          1,
          1,
          1,
          1,
          1,
          1,
          1,
          1,
          1,
          1,
          1,
          1,
          1,
          1,
          1,
          1,
          1,
          1,
          1,
          1,
          1,
          1,
          1,
          1,
          1,
          1,
          1,
          1,
          1,
          1,
          1,
          1,
          1,
          1,
          1,
          1,
          1,
          1,
          1,
          1,
          1,
          1,
          1,
          1,
          1,
          1,
          1,
          1,
          1,
          1,
          1,
          1,
          1,
          1,
          1,
          1,
          1,
          1,
          1,
          1,
          1,
          1,
          1,
          1,
          1,
          1,
          1,
          1,
          1,
          1,
          1,
          1,
          1,
          1,
          1,
          1,
          1,
          1,
          1,
          1,
          1,
          1,
          1,
          1,
          1,
          1,
          1,
          1,
          1,
          1,
          1,
          1,
          1,
          1,
          1,
          1,
          1,
          1,
          1,
          1,
          1,
          1,
          1,
          1,
          1,
          1,
          1,
          1,
          1,
          1,
          1,
          1,
          1,
          1,
          1,
          1,
          1,
          1,
          1,
          1,
          1,
          1,
          1,
          1,
          1,
          1,
          1,
          1,
          1,
          1,
          1,
          1,
          1,
          1,
          1,
          1,
          1,
          1,
          1,
          1,
          1,
          1,
          1,
          1,
          1,
          1,
          1,
          1,
          1,
          1,
          1,
          1,
          1,
          1,
          1,
          1,
          1,
          1,
          1,
          1,
          1,
          1
         ],
         "yaxis": "y"
        }
       ],
       "layout": {
        "barmode": "overlay",
        "hoverlabel": {
         "bgcolor": "white"
        },
        "legend": {
         "tracegroupgap": 0
        },
        "template": {
         "data": {
          "bar": [
           {
            "error_x": {
             "color": "#f2f5fa"
            },
            "error_y": {
             "color": "#f2f5fa"
            },
            "marker": {
             "line": {
              "color": "rgb(17,17,17)",
              "width": 0.5
             },
             "pattern": {
              "fillmode": "overlay",
              "size": 10,
              "solidity": 0.2
             }
            },
            "type": "bar"
           }
          ],
          "barpolar": [
           {
            "marker": {
             "line": {
              "color": "rgb(17,17,17)",
              "width": 0.5
             },
             "pattern": {
              "fillmode": "overlay",
              "size": 10,
              "solidity": 0.2
             }
            },
            "type": "barpolar"
           }
          ],
          "carpet": [
           {
            "aaxis": {
             "endlinecolor": "#A2B1C6",
             "gridcolor": "#506784",
             "linecolor": "#506784",
             "minorgridcolor": "#506784",
             "startlinecolor": "#A2B1C6"
            },
            "baxis": {
             "endlinecolor": "#A2B1C6",
             "gridcolor": "#506784",
             "linecolor": "#506784",
             "minorgridcolor": "#506784",
             "startlinecolor": "#A2B1C6"
            },
            "type": "carpet"
           }
          ],
          "choropleth": [
           {
            "colorbar": {
             "outlinewidth": 0,
             "ticks": ""
            },
            "type": "choropleth"
           }
          ],
          "contour": [
           {
            "colorbar": {
             "outlinewidth": 0,
             "ticks": ""
            },
            "colorscale": [
             [
              0,
              "#0d0887"
             ],
             [
              0.1111111111111111,
              "#46039f"
             ],
             [
              0.2222222222222222,
              "#7201a8"
             ],
             [
              0.3333333333333333,
              "#9c179e"
             ],
             [
              0.4444444444444444,
              "#bd3786"
             ],
             [
              0.5555555555555556,
              "#d8576b"
             ],
             [
              0.6666666666666666,
              "#ed7953"
             ],
             [
              0.7777777777777778,
              "#fb9f3a"
             ],
             [
              0.8888888888888888,
              "#fdca26"
             ],
             [
              1,
              "#f0f921"
             ]
            ],
            "type": "contour"
           }
          ],
          "contourcarpet": [
           {
            "colorbar": {
             "outlinewidth": 0,
             "ticks": ""
            },
            "type": "contourcarpet"
           }
          ],
          "heatmap": [
           {
            "colorbar": {
             "outlinewidth": 0,
             "ticks": ""
            },
            "colorscale": [
             [
              0,
              "#0d0887"
             ],
             [
              0.1111111111111111,
              "#46039f"
             ],
             [
              0.2222222222222222,
              "#7201a8"
             ],
             [
              0.3333333333333333,
              "#9c179e"
             ],
             [
              0.4444444444444444,
              "#bd3786"
             ],
             [
              0.5555555555555556,
              "#d8576b"
             ],
             [
              0.6666666666666666,
              "#ed7953"
             ],
             [
              0.7777777777777778,
              "#fb9f3a"
             ],
             [
              0.8888888888888888,
              "#fdca26"
             ],
             [
              1,
              "#f0f921"
             ]
            ],
            "type": "heatmap"
           }
          ],
          "heatmapgl": [
           {
            "colorbar": {
             "outlinewidth": 0,
             "ticks": ""
            },
            "colorscale": [
             [
              0,
              "#0d0887"
             ],
             [
              0.1111111111111111,
              "#46039f"
             ],
             [
              0.2222222222222222,
              "#7201a8"
             ],
             [
              0.3333333333333333,
              "#9c179e"
             ],
             [
              0.4444444444444444,
              "#bd3786"
             ],
             [
              0.5555555555555556,
              "#d8576b"
             ],
             [
              0.6666666666666666,
              "#ed7953"
             ],
             [
              0.7777777777777778,
              "#fb9f3a"
             ],
             [
              0.8888888888888888,
              "#fdca26"
             ],
             [
              1,
              "#f0f921"
             ]
            ],
            "type": "heatmapgl"
           }
          ],
          "histogram": [
           {
            "marker": {
             "pattern": {
              "fillmode": "overlay",
              "size": 10,
              "solidity": 0.2
             }
            },
            "type": "histogram"
           }
          ],
          "histogram2d": [
           {
            "colorbar": {
             "outlinewidth": 0,
             "ticks": ""
            },
            "colorscale": [
             [
              0,
              "#0d0887"
             ],
             [
              0.1111111111111111,
              "#46039f"
             ],
             [
              0.2222222222222222,
              "#7201a8"
             ],
             [
              0.3333333333333333,
              "#9c179e"
             ],
             [
              0.4444444444444444,
              "#bd3786"
             ],
             [
              0.5555555555555556,
              "#d8576b"
             ],
             [
              0.6666666666666666,
              "#ed7953"
             ],
             [
              0.7777777777777778,
              "#fb9f3a"
             ],
             [
              0.8888888888888888,
              "#fdca26"
             ],
             [
              1,
              "#f0f921"
             ]
            ],
            "type": "histogram2d"
           }
          ],
          "histogram2dcontour": [
           {
            "colorbar": {
             "outlinewidth": 0,
             "ticks": ""
            },
            "colorscale": [
             [
              0,
              "#0d0887"
             ],
             [
              0.1111111111111111,
              "#46039f"
             ],
             [
              0.2222222222222222,
              "#7201a8"
             ],
             [
              0.3333333333333333,
              "#9c179e"
             ],
             [
              0.4444444444444444,
              "#bd3786"
             ],
             [
              0.5555555555555556,
              "#d8576b"
             ],
             [
              0.6666666666666666,
              "#ed7953"
             ],
             [
              0.7777777777777778,
              "#fb9f3a"
             ],
             [
              0.8888888888888888,
              "#fdca26"
             ],
             [
              1,
              "#f0f921"
             ]
            ],
            "type": "histogram2dcontour"
           }
          ],
          "mesh3d": [
           {
            "colorbar": {
             "outlinewidth": 0,
             "ticks": ""
            },
            "type": "mesh3d"
           }
          ],
          "parcoords": [
           {
            "line": {
             "colorbar": {
              "outlinewidth": 0,
              "ticks": ""
             }
            },
            "type": "parcoords"
           }
          ],
          "pie": [
           {
            "automargin": true,
            "type": "pie"
           }
          ],
          "scatter": [
           {
            "marker": {
             "line": {
              "color": "#283442"
             }
            },
            "type": "scatter"
           }
          ],
          "scatter3d": [
           {
            "line": {
             "colorbar": {
              "outlinewidth": 0,
              "ticks": ""
             }
            },
            "marker": {
             "colorbar": {
              "outlinewidth": 0,
              "ticks": ""
             }
            },
            "type": "scatter3d"
           }
          ],
          "scattercarpet": [
           {
            "marker": {
             "colorbar": {
              "outlinewidth": 0,
              "ticks": ""
             }
            },
            "type": "scattercarpet"
           }
          ],
          "scattergeo": [
           {
            "marker": {
             "colorbar": {
              "outlinewidth": 0,
              "ticks": ""
             }
            },
            "type": "scattergeo"
           }
          ],
          "scattergl": [
           {
            "marker": {
             "line": {
              "color": "#283442"
             }
            },
            "type": "scattergl"
           }
          ],
          "scattermapbox": [
           {
            "marker": {
             "colorbar": {
              "outlinewidth": 0,
              "ticks": ""
             }
            },
            "type": "scattermapbox"
           }
          ],
          "scatterpolar": [
           {
            "marker": {
             "colorbar": {
              "outlinewidth": 0,
              "ticks": ""
             }
            },
            "type": "scatterpolar"
           }
          ],
          "scatterpolargl": [
           {
            "marker": {
             "colorbar": {
              "outlinewidth": 0,
              "ticks": ""
             }
            },
            "type": "scatterpolargl"
           }
          ],
          "scatterternary": [
           {
            "marker": {
             "colorbar": {
              "outlinewidth": 0,
              "ticks": ""
             }
            },
            "type": "scatterternary"
           }
          ],
          "surface": [
           {
            "colorbar": {
             "outlinewidth": 0,
             "ticks": ""
            },
            "colorscale": [
             [
              0,
              "#0d0887"
             ],
             [
              0.1111111111111111,
              "#46039f"
             ],
             [
              0.2222222222222222,
              "#7201a8"
             ],
             [
              0.3333333333333333,
              "#9c179e"
             ],
             [
              0.4444444444444444,
              "#bd3786"
             ],
             [
              0.5555555555555556,
              "#d8576b"
             ],
             [
              0.6666666666666666,
              "#ed7953"
             ],
             [
              0.7777777777777778,
              "#fb9f3a"
             ],
             [
              0.8888888888888888,
              "#fdca26"
             ],
             [
              1,
              "#f0f921"
             ]
            ],
            "type": "surface"
           }
          ],
          "table": [
           {
            "cells": {
             "fill": {
              "color": "#506784"
             },
             "line": {
              "color": "rgb(17,17,17)"
             }
            },
            "header": {
             "fill": {
              "color": "#2a3f5f"
             },
             "line": {
              "color": "rgb(17,17,17)"
             }
            },
            "type": "table"
           }
          ]
         },
         "layout": {
          "annotationdefaults": {
           "arrowcolor": "#f2f5fa",
           "arrowhead": 0,
           "arrowwidth": 1
          },
          "autotypenumbers": "strict",
          "coloraxis": {
           "colorbar": {
            "outlinewidth": 0,
            "ticks": ""
           }
          },
          "colorscale": {
           "diverging": [
            [
             0,
             "#8e0152"
            ],
            [
             0.1,
             "#c51b7d"
            ],
            [
             0.2,
             "#de77ae"
            ],
            [
             0.3,
             "#f1b6da"
            ],
            [
             0.4,
             "#fde0ef"
            ],
            [
             0.5,
             "#f7f7f7"
            ],
            [
             0.6,
             "#e6f5d0"
            ],
            [
             0.7,
             "#b8e186"
            ],
            [
             0.8,
             "#7fbc41"
            ],
            [
             0.9,
             "#4d9221"
            ],
            [
             1,
             "#276419"
            ]
           ],
           "sequential": [
            [
             0,
             "#0d0887"
            ],
            [
             0.1111111111111111,
             "#46039f"
            ],
            [
             0.2222222222222222,
             "#7201a8"
            ],
            [
             0.3333333333333333,
             "#9c179e"
            ],
            [
             0.4444444444444444,
             "#bd3786"
            ],
            [
             0.5555555555555556,
             "#d8576b"
            ],
            [
             0.6666666666666666,
             "#ed7953"
            ],
            [
             0.7777777777777778,
             "#fb9f3a"
            ],
            [
             0.8888888888888888,
             "#fdca26"
            ],
            [
             1,
             "#f0f921"
            ]
           ],
           "sequentialminus": [
            [
             0,
             "#0d0887"
            ],
            [
             0.1111111111111111,
             "#46039f"
            ],
            [
             0.2222222222222222,
             "#7201a8"
            ],
            [
             0.3333333333333333,
             "#9c179e"
            ],
            [
             0.4444444444444444,
             "#bd3786"
            ],
            [
             0.5555555555555556,
             "#d8576b"
            ],
            [
             0.6666666666666666,
             "#ed7953"
            ],
            [
             0.7777777777777778,
             "#fb9f3a"
            ],
            [
             0.8888888888888888,
             "#fdca26"
            ],
            [
             1,
             "#f0f921"
            ]
           ]
          },
          "colorway": [
           "#636efa",
           "#EF553B",
           "#00cc96",
           "#ab63fa",
           "#FFA15A",
           "#19d3f3",
           "#FF6692",
           "#B6E880",
           "#FF97FF",
           "#FECB52"
          ],
          "font": {
           "color": "#f2f5fa"
          },
          "geo": {
           "bgcolor": "rgb(17,17,17)",
           "lakecolor": "rgb(17,17,17)",
           "landcolor": "rgb(17,17,17)",
           "showlakes": true,
           "showland": true,
           "subunitcolor": "#506784"
          },
          "hoverlabel": {
           "align": "left"
          },
          "hovermode": "closest",
          "mapbox": {
           "style": "dark"
          },
          "paper_bgcolor": "rgb(17,17,17)",
          "plot_bgcolor": "rgb(17,17,17)",
          "polar": {
           "angularaxis": {
            "gridcolor": "#506784",
            "linecolor": "#506784",
            "ticks": ""
           },
           "bgcolor": "rgb(17,17,17)",
           "radialaxis": {
            "gridcolor": "#506784",
            "linecolor": "#506784",
            "ticks": ""
           }
          },
          "scene": {
           "xaxis": {
            "backgroundcolor": "rgb(17,17,17)",
            "gridcolor": "#506784",
            "gridwidth": 2,
            "linecolor": "#506784",
            "showbackground": true,
            "ticks": "",
            "zerolinecolor": "#C8D4E3"
           },
           "yaxis": {
            "backgroundcolor": "rgb(17,17,17)",
            "gridcolor": "#506784",
            "gridwidth": 2,
            "linecolor": "#506784",
            "showbackground": true,
            "ticks": "",
            "zerolinecolor": "#C8D4E3"
           },
           "zaxis": {
            "backgroundcolor": "rgb(17,17,17)",
            "gridcolor": "#506784",
            "gridwidth": 2,
            "linecolor": "#506784",
            "showbackground": true,
            "ticks": "",
            "zerolinecolor": "#C8D4E3"
           }
          },
          "shapedefaults": {
           "line": {
            "color": "#f2f5fa"
           }
          },
          "sliderdefaults": {
           "bgcolor": "#C8D4E3",
           "bordercolor": "rgb(17,17,17)",
           "borderwidth": 1,
           "tickwidth": 0
          },
          "ternary": {
           "aaxis": {
            "gridcolor": "#506784",
            "linecolor": "#506784",
            "ticks": ""
           },
           "baxis": {
            "gridcolor": "#506784",
            "linecolor": "#506784",
            "ticks": ""
           },
           "bgcolor": "rgb(17,17,17)",
           "caxis": {
            "gridcolor": "#506784",
            "linecolor": "#506784",
            "ticks": ""
           }
          },
          "title": {
           "x": 0.05
          },
          "updatemenudefaults": {
           "bgcolor": "#506784",
           "borderwidth": 0
          },
          "xaxis": {
           "automargin": true,
           "gridcolor": "#283442",
           "linecolor": "#506784",
           "ticks": "",
           "title": {
            "standoff": 15
           },
           "zerolinecolor": "#283442",
           "zerolinewidth": 2
          },
          "yaxis": {
           "automargin": true,
           "gridcolor": "#283442",
           "linecolor": "#506784",
           "ticks": "",
           "title": {
            "standoff": 15
           },
           "zerolinecolor": "#283442",
           "zerolinewidth": 2
          }
         }
        },
        "title": {
         "text": "Value Counts of building type"
        },
        "xaxis": {
         "anchor": "y",
         "domain": [
          0,
          1
         ],
         "title": {
          "text": "Consommation énergie"
         }
        },
        "yaxis": {
         "anchor": "x",
         "domain": [
          0,
          1
         ],
         "title": {
          "text": "Count"
         }
        }
       }
      }
     },
     "metadata": {},
     "output_type": "display_data"
    }
   ],
   "source": [
    "value_counts = data['consommation_energie'].value_counts().reset_index()\n",
    "value_counts.columns = ['consommation_energie', 'Count']\n",
    "\n",
    "fig = px.histogram(value_counts, \n",
    "             x='consommation_energie', \n",
    "             y='Count', \n",
    "             barmode='overlay',\n",
    "             title='Value Counts of consommation_energie',\n",
    "             template='plotly_dark',\n",
    "             color_discrete_sequence=['#F63366'],\n",
    "             opacity=0.8)\n",
    "\n",
    "\n",
    "fig.update_layout(\n",
    "    title=\"Value Counts of building type\",\n",
    "    xaxis_title=\"Consommation énergie\",\n",
    "    yaxis_title=\"Count\",\n",
    "    hoverlabel_bgcolor='white'\n",
    "    )\n",
    "\n",
    "fig.show()\n",
    "# data['consommation_energie'].hist(bins=100)\n"
   ]
  },
  {
   "cell_type": "code",
   "execution_count": null,
   "metadata": {},
   "outputs": [
    {
     "data": {
      "image/png": "[encoded data removed]",
      "text/plain": [
       "<Figure size 640x480 with 1 Axes>"
      ]
     },
     "metadata": {},
     "output_type": "display_data"
    }
   ],
   "source": [
    "data[(data['tr002_type_batiment_description']==\"Logement\")]['consommation_energie'].plot.box()\n",
    "Q1=data[(data['tr002_type_batiment_description']==\"Logement\")]['consommation_energie'].quantile(0.25)\n",
    "Q3=data[(data['tr002_type_batiment_description']==\"Logement\")]['consommation_energie'].quantile(0.75)\n",
    "IQR=Q3-Q1\n",
    "coef=IQR*1.5\n",
    "limite_inf=Q1-coef\n",
    "limite_sup=Q3+coef\n",
    "result=data[(data['consommation_energie']>limite_sup)|(data['consommation_energie']<limite_inf)]\n",
    "data_clean=data.drop(result.index)\n",
    "# data_clean['consommation_energie'].hist(bins=100)\n"
   ]
  },
  {
   "cell_type": "code",
   "execution_count": null,
   "metadata": {},
   "outputs": [
    {
     "name": "stdout",
     "output_type": "stream",
     "text": [
      "Logement: 268.29783444816053 kWhEP/m².an \n",
      "Logement: 36.77678093645485 Kg eqCO2/m².an \n",
      "Maison Individuelle: 261.4205771111836 kWhEP/m².an \n",
      "Maison Individuelle: 35.51785784153896 Kg eqCO2/m².an \n",
      "Bâtiment collectif à usage principal d'habitation: 330.5564516129032 kWhEP/m².an \n",
      "Bâtiment collectif à usage principal d'habitation: 41.20516129032258 Kg eqCO2/m².an \n"
     ]
    }
   ],
   "source": [
    "\n",
    "\n",
    "for elem in data['tr002_type_batiment_description'].unique().tolist(): \n",
    "    data_sorted= data[data['tr002_type_batiment_description']==elem]\n",
    "    print(f\"{elem}: {np.mean(data_sorted['consommation_energie'])} kWhEP/m².an \")\n",
    "    print(f\"{elem}: {np.mean(data_sorted['estimation_ges'])} Kg eqCO2/m².an \")\n",
    "\n"
   ]
  }
 ],
 "metadata": {
  "kernelspec": {
   "display_name": "env",
   "language": "python",
   "name": "python3"
  },
  "language_info": {
   "codemirror_mode": {
    "name": "ipython",
    "version": 3
   },
   "file_extension": ".py",
   "mimetype": "text/x-python",
   "name": "python",
   "nbconvert_exporter": "python",
   "pygments_lexer": "ipython3",
   "version": "3.9.7"
  },
  "orig_nbformat": 4
 },
 "nbformat": 4,
 "nbformat_minor": 2
}
