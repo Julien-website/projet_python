{
 "cells": [
  {
   "cell_type": "code",
   "execution_count": 77,
   "metadata": {},
   "outputs": [],
   "source": [
    "import pandas as pd\n",
    "import numpy as np "
   ]
  },
  {
   "cell_type": "code",
   "execution_count": 78,
   "metadata": {},
   "outputs": [
    {
     "data": {
      "text/html": [
       "<div>\n",
       "<style scoped>\n",
       "    .dataframe tbody tr th:only-of-type {\n",
       "        vertical-align: middle;\n",
       "    }\n",
       "\n",
       "    .dataframe tbody tr th {\n",
       "        vertical-align: top;\n",
       "    }\n",
       "\n",
       "    .dataframe thead th {\n",
       "        text-align: right;\n",
       "    }\n",
       "</style>\n",
       "<table border=\"1\" class=\"dataframe\">\n",
       "  <thead>\n",
       "    <tr style=\"text-align: right;\">\n",
       "      <th></th>\n",
       "      <th>_id</th>\n",
       "      <th>consommation_energie</th>\n",
       "      <th>classe_consommation_energie</th>\n",
       "      <th>estimation_ges</th>\n",
       "      <th>surface_thermique_lot</th>\n",
       "      <th>classe_estimation_ges</th>\n",
       "      <th>annee_construction</th>\n",
       "      <th>tr002_type_batiment_description</th>\n",
       "      <th>code_insee_commune_actualise</th>\n",
       "      <th>geo_adresse</th>\n",
       "      <th>consommation_surface_ratio</th>\n",
       "    </tr>\n",
       "  </thead>\n",
       "  <tbody>\n",
       "    <tr>\n",
       "      <th>0</th>\n",
       "      <td>WRYV9xQCjLUgZ4MAK3wKu</td>\n",
       "      <td>132.0</td>\n",
       "      <td>3.0</td>\n",
       "      <td>29.0</td>\n",
       "      <td>190.0</td>\n",
       "      <td>4.0</td>\n",
       "      <td>5200.0</td>\n",
       "      <td>Maison Individuelle</td>\n",
       "      <td>01430</td>\n",
       "      <td>3 Impasse du Foyer Rural 01160 Varambon</td>\n",
       "      <td>0.694737</td>\n",
       "    </tr>\n",
       "  </tbody>\n",
       "</table>\n",
       "</div>"
      ],
      "text/plain": [
       "                     _id  consommation_energie  classe_consommation_energie  \\\n",
       "0  WRYV9xQCjLUgZ4MAK3wKu                 132.0                          3.0   \n",
       "\n",
       "   estimation_ges  surface_thermique_lot  classe_estimation_ges  \\\n",
       "0            29.0                  190.0                    4.0   \n",
       "\n",
       "   annee_construction tr002_type_batiment_description  \\\n",
       "0              5200.0             Maison Individuelle   \n",
       "\n",
       "  code_insee_commune_actualise                              geo_adresse  \\\n",
       "0                        01430  3 Impasse du Foyer Rural 01160 Varambon   \n",
       "\n",
       "   consommation_surface_ratio  \n",
       "0                    0.694737  "
      ]
     },
     "execution_count": 78,
     "metadata": {},
     "output_type": "execute_result"
    }
   ],
   "source": [
    "from  comprendre_api.Clean_donnees import liste_propre\n",
    "\n",
    "\n",
    "data = pd.concat([liste_propre(code_commune=None, taille_echantillon=10000),\n",
    "                liste_propre(code_commune=None, taille_echantillon=10000),\n",
    "                liste_propre(code_commune=None, taille_echantillon=10000),\n",
    "                liste_propre(code_commune=None, taille_echantillon=10000)],\n",
    "                axis=0, \n",
    "                ignore_index=True)\n",
    "data.head(1)"
   ]
  },
  {
   "cell_type": "code",
   "execution_count": 74,
   "metadata": {},
   "outputs": [
    {
     "data": {
      "text/html": [
       "<div>\n",
       "<style scoped>\n",
       "    .dataframe tbody tr th:only-of-type {\n",
       "        vertical-align: middle;\n",
       "    }\n",
       "\n",
       "    .dataframe tbody tr th {\n",
       "        vertical-align: top;\n",
       "    }\n",
       "\n",
       "    .dataframe thead th {\n",
       "        text-align: right;\n",
       "    }\n",
       "</style>\n",
       "<table border=\"1\" class=\"dataframe\">\n",
       "  <thead>\n",
       "    <tr style=\"text-align: right;\">\n",
       "      <th></th>\n",
       "      <th>consommation_energie</th>\n",
       "      <th>classe_consommation_energie</th>\n",
       "      <th>estimation_ges</th>\n",
       "      <th>surface_thermique_lot</th>\n",
       "      <th>classe_estimation_ges</th>\n",
       "      <th>annee_construction</th>\n",
       "      <th>consommation_surface_ratio</th>\n",
       "    </tr>\n",
       "  </thead>\n",
       "  <tbody>\n",
       "    <tr>\n",
       "      <th>count</th>\n",
       "      <td>17660.000000</td>\n",
       "      <td>17660.000000</td>\n",
       "      <td>17660.000000</td>\n",
       "      <td>17660.000000</td>\n",
       "      <td>17660.000000</td>\n",
       "      <td>17660.000000</td>\n",
       "      <td>17660.000000</td>\n",
       "    </tr>\n",
       "    <tr>\n",
       "      <th>mean</th>\n",
       "      <td>262.284691</td>\n",
       "      <td>4.611325</td>\n",
       "      <td>35.564179</td>\n",
       "      <td>108.587223</td>\n",
       "      <td>3.904870</td>\n",
       "      <td>1940.871801</td>\n",
       "      <td>3.825178</td>\n",
       "    </tr>\n",
       "    <tr>\n",
       "      <th>std</th>\n",
       "      <td>125.443069</td>\n",
       "      <td>1.218897</td>\n",
       "      <td>57.446559</td>\n",
       "      <td>144.313725</td>\n",
       "      <td>1.718514</td>\n",
       "      <td>244.016199</td>\n",
       "      <td>4.284877</td>\n",
       "    </tr>\n",
       "    <tr>\n",
       "      <th>min</th>\n",
       "      <td>-4.000000</td>\n",
       "      <td>1.000000</td>\n",
       "      <td>0.710000</td>\n",
       "      <td>6.000000</td>\n",
       "      <td>1.000000</td>\n",
       "      <td>-1.000000</td>\n",
       "      <td>-0.040708</td>\n",
       "    </tr>\n",
       "    <tr>\n",
       "      <th>25%</th>\n",
       "      <td>179.000000</td>\n",
       "      <td>4.000000</td>\n",
       "      <td>11.100000</td>\n",
       "      <td>66.000000</td>\n",
       "      <td>3.000000</td>\n",
       "      <td>1948.000000</td>\n",
       "      <td>1.645455</td>\n",
       "    </tr>\n",
       "    <tr>\n",
       "      <th>50%</th>\n",
       "      <td>239.110000</td>\n",
       "      <td>5.000000</td>\n",
       "      <td>24.060000</td>\n",
       "      <td>89.570000</td>\n",
       "      <td>4.000000</td>\n",
       "      <td>1974.000000</td>\n",
       "      <td>2.698238</td>\n",
       "    </tr>\n",
       "    <tr>\n",
       "      <th>75%</th>\n",
       "      <td>321.000000</td>\n",
       "      <td>5.000000</td>\n",
       "      <td>50.540000</td>\n",
       "      <td>120.400000</td>\n",
       "      <td>5.000000</td>\n",
       "      <td>1989.000000</td>\n",
       "      <td>4.437647</td>\n",
       "    </tr>\n",
       "    <tr>\n",
       "      <th>max</th>\n",
       "      <td>1217.760000</td>\n",
       "      <td>7.000000</td>\n",
       "      <td>2326.330000</td>\n",
       "      <td>4120.000000</td>\n",
       "      <td>7.000000</td>\n",
       "      <td>5200.000000</td>\n",
       "      <td>77.426000</td>\n",
       "    </tr>\n",
       "  </tbody>\n",
       "</table>\n",
       "</div>"
      ],
      "text/plain": [
       "       consommation_energie  classe_consommation_energie  estimation_ges  \\\n",
       "count          17660.000000                 17660.000000    17660.000000   \n",
       "mean             262.284691                     4.611325       35.564179   \n",
       "std              125.443069                     1.218897       57.446559   \n",
       "min               -4.000000                     1.000000        0.710000   \n",
       "25%              179.000000                     4.000000       11.100000   \n",
       "50%              239.110000                     5.000000       24.060000   \n",
       "75%              321.000000                     5.000000       50.540000   \n",
       "max             1217.760000                     7.000000     2326.330000   \n",
       "\n",
       "       surface_thermique_lot  classe_estimation_ges  annee_construction  \\\n",
       "count           17660.000000           17660.000000        17660.000000   \n",
       "mean              108.587223               3.904870         1940.871801   \n",
       "std               144.313725               1.718514          244.016199   \n",
       "min                 6.000000               1.000000           -1.000000   \n",
       "25%                66.000000               3.000000         1948.000000   \n",
       "50%                89.570000               4.000000         1974.000000   \n",
       "75%               120.400000               5.000000         1989.000000   \n",
       "max              4120.000000               7.000000         5200.000000   \n",
       "\n",
       "       consommation_surface_ratio  \n",
       "count                17660.000000  \n",
       "mean                     3.825178  \n",
       "std                      4.284877  \n",
       "min                     -0.040708  \n",
       "25%                      1.645455  \n",
       "50%                      2.698238  \n",
       "75%                      4.437647  \n",
       "max                     77.426000  "
      ]
     },
     "execution_count": 74,
     "metadata": {},
     "output_type": "execute_result"
    }
   ],
   "source": [
    "data.describe()"
   ]
  },
  {
   "cell_type": "code",
   "execution_count": 56,
   "metadata": {},
   "outputs": [
    {
     "name": "stdout",
     "output_type": "stream",
     "text": [
      "<class 'pandas.core.frame.DataFrame'>\n",
      "RangeIndex: 17660 entries, 0 to 17659\n",
      "Data columns (total 11 columns):\n",
      " #   Column                           Non-Null Count  Dtype  \n",
      "---  ------                           --------------  -----  \n",
      " 0   _id                              17660 non-null  object \n",
      " 1   consommation_energie             17660 non-null  float64\n",
      " 2   classe_consommation_energie      17660 non-null  float64\n",
      " 3   estimation_ges                   17660 non-null  float64\n",
      " 4   surface_thermique_lot            17660 non-null  float64\n",
      " 5   classe_estimation_ges            17660 non-null  float64\n",
      " 6   annee_construction               17660 non-null  float64\n",
      " 7   tr002_type_batiment_description  17660 non-null  object \n",
      " 8   code_insee_commune_actualise     17660 non-null  object \n",
      " 9   geo_adresse                      17660 non-null  object \n",
      " 10  consommation_surface_ratio       17660 non-null  float64\n",
      "dtypes: float64(7), object(4)\n",
      "memory usage: 1.5+ MB\n"
     ]
    }
   ],
   "source": [
    "data.info()"
   ]
  },
  {
   "cell_type": "code",
   "execution_count": 69,
   "metadata": {},
   "outputs": [
    {
     "data": {
      "text/html": [
       "<div>\n",
       "<style scoped>\n",
       "    .dataframe tbody tr th:only-of-type {\n",
       "        vertical-align: middle;\n",
       "    }\n",
       "\n",
       "    .dataframe tbody tr th {\n",
       "        vertical-align: top;\n",
       "    }\n",
       "\n",
       "    .dataframe thead th {\n",
       "        text-align: right;\n",
       "    }\n",
       "</style>\n",
       "<table border=\"1\" class=\"dataframe\">\n",
       "  <thead>\n",
       "    <tr style=\"text-align: right;\">\n",
       "      <th></th>\n",
       "      <th>consommation_energie</th>\n",
       "      <th>classe_consommation_energie</th>\n",
       "      <th>estimation_ges</th>\n",
       "      <th>surface_thermique_lot</th>\n",
       "      <th>classe_estimation_ges</th>\n",
       "      <th>annee_construction</th>\n",
       "      <th>consommation_surface_ratio</th>\n",
       "    </tr>\n",
       "  </thead>\n",
       "  <tbody>\n",
       "    <tr>\n",
       "      <th>count</th>\n",
       "      <td>17176.000000</td>\n",
       "      <td>17176.000000</td>\n",
       "      <td>17176.000000</td>\n",
       "      <td>17176.000000</td>\n",
       "      <td>17176.000000</td>\n",
       "      <td>17176.000000</td>\n",
       "      <td>17176.000000</td>\n",
       "    </tr>\n",
       "    <tr>\n",
       "      <th>mean</th>\n",
       "      <td>263.835205</td>\n",
       "      <td>4.626223</td>\n",
       "      <td>35.909562</td>\n",
       "      <td>108.485000</td>\n",
       "      <td>3.927573</td>\n",
       "      <td>1970.829762</td>\n",
       "      <td>3.859059</td>\n",
       "    </tr>\n",
       "    <tr>\n",
       "      <th>std</th>\n",
       "      <td>125.863997</td>\n",
       "      <td>1.214285</td>\n",
       "      <td>57.998289</td>\n",
       "      <td>145.376664</td>\n",
       "      <td>1.712526</td>\n",
       "      <td>26.264531</td>\n",
       "      <td>4.327587</td>\n",
       "    </tr>\n",
       "    <tr>\n",
       "      <th>min</th>\n",
       "      <td>7.450000</td>\n",
       "      <td>1.000000</td>\n",
       "      <td>0.740000</td>\n",
       "      <td>6.000000</td>\n",
       "      <td>1.000000</td>\n",
       "      <td>1900.000000</td>\n",
       "      <td>0.028818</td>\n",
       "    </tr>\n",
       "    <tr>\n",
       "      <th>25%</th>\n",
       "      <td>179.800000</td>\n",
       "      <td>4.000000</td>\n",
       "      <td>11.490000</td>\n",
       "      <td>66.000000</td>\n",
       "      <td>3.000000</td>\n",
       "      <td>1948.000000</td>\n",
       "      <td>1.661380</td>\n",
       "    </tr>\n",
       "    <tr>\n",
       "      <th>50%</th>\n",
       "      <td>241.000000</td>\n",
       "      <td>5.000000</td>\n",
       "      <td>25.000000</td>\n",
       "      <td>89.600000</td>\n",
       "      <td>4.000000</td>\n",
       "      <td>1974.000000</td>\n",
       "      <td>2.715324</td>\n",
       "    </tr>\n",
       "    <tr>\n",
       "      <th>75%</th>\n",
       "      <td>322.470000</td>\n",
       "      <td>5.000000</td>\n",
       "      <td>51.000000</td>\n",
       "      <td>120.000000</td>\n",
       "      <td>5.000000</td>\n",
       "      <td>1990.000000</td>\n",
       "      <td>4.470069</td>\n",
       "    </tr>\n",
       "    <tr>\n",
       "      <th>max</th>\n",
       "      <td>1217.760000</td>\n",
       "      <td>7.000000</td>\n",
       "      <td>2326.330000</td>\n",
       "      <td>4120.000000</td>\n",
       "      <td>7.000000</td>\n",
       "      <td>2013.000000</td>\n",
       "      <td>77.426000</td>\n",
       "    </tr>\n",
       "  </tbody>\n",
       "</table>\n",
       "</div>"
      ],
      "text/plain": [
       "       consommation_energie  classe_consommation_energie  estimation_ges  \\\n",
       "count          17176.000000                 17176.000000    17176.000000   \n",
       "mean             263.835205                     4.626223       35.909562   \n",
       "std              125.863997                     1.214285       57.998289   \n",
       "min                7.450000                     1.000000        0.740000   \n",
       "25%              179.800000                     4.000000       11.490000   \n",
       "50%              241.000000                     5.000000       25.000000   \n",
       "75%              322.470000                     5.000000       51.000000   \n",
       "max             1217.760000                     7.000000     2326.330000   \n",
       "\n",
       "       surface_thermique_lot  classe_estimation_ges  annee_construction  \\\n",
       "count           17176.000000           17176.000000        17176.000000   \n",
       "mean              108.485000               3.927573         1970.829762   \n",
       "std               145.376664               1.712526           26.264531   \n",
       "min                 6.000000               1.000000         1900.000000   \n",
       "25%                66.000000               3.000000         1948.000000   \n",
       "50%                89.600000               4.000000         1974.000000   \n",
       "75%               120.000000               5.000000         1990.000000   \n",
       "max              4120.000000               7.000000         2013.000000   \n",
       "\n",
       "       consommation_surface_ratio  \n",
       "count                17176.000000  \n",
       "mean                     3.859059  \n",
       "std                      4.327587  \n",
       "min                      0.028818  \n",
       "25%                      1.661380  \n",
       "50%                      2.715324  \n",
       "75%                      4.470069  \n",
       "max                     77.426000  "
      ]
     },
     "execution_count": 69,
     "metadata": {},
     "output_type": "execute_result"
    }
   ],
   "source": [
    "condition=(data['annee_construction']<1800)|(data['annee_construction']>2023)|(data['consommation_energie']<0)\n",
    "data=data[~condition]\n",
    "data.describe()\n"
   ]
  },
  {
   "cell_type": "code",
   "execution_count": 49,
   "metadata": {},
   "outputs": [
    {
     "data": {
      "text/plain": [
       "<Axes: xlabel='classe_consommation_energie'>"
      ]
     },
     "execution_count": 49,
     "metadata": {},
     "output_type": "execute_result"
    },
    {
     "data": {
      "image/png": "[encoded data removed]",
      "text/plain": [
       "<Figure size 640x480 with 1 Axes>"
      ]
     },
     "metadata": {},
     "output_type": "display_data"
    }
   ],
   "source": [
    "data['classe_consommation_energie'].value_counts().plot(kind='bar')"
   ]
  },
  {
   "cell_type": "code",
   "execution_count": 50,
   "metadata": {},
   "outputs": [
    {
     "data": {
      "text/plain": [
       "<Axes: xlabel='tr002_type_batiment_description'>"
      ]
     },
     "execution_count": 50,
     "metadata": {},
     "output_type": "execute_result"
    },
    {
     "data": {
      "image/png": "[encoded data removed]",
      "text/plain": [
       "<Figure size 640x480 with 1 Axes>"
      ]
     },
     "metadata": {},
     "output_type": "display_data"
    }
   ],
   "source": [
    "data['tr002_type_batiment_description'].value_counts().plot(kind='bar')"
   ]
  },
  {
   "cell_type": "code",
   "execution_count": 52,
   "metadata": {},
   "outputs": [
    {
     "data": {
      "text/plain": [
       "<Axes: >"
      ]
     },
     "execution_count": 52,
     "metadata": {},
     "output_type": "execute_result"
    },
    {
     "data": {
      "image/png": "[encoded data removed]",
      "text/plain": [
       "<Figure size 640x480 with 1 Axes>"
      ]
     },
     "metadata": {},
     "output_type": "display_data"
    }
   ],
   "source": [
    "data['consommation_energie'].hist(bins=100)"
   ]
  },
  {
   "cell_type": "code",
   "execution_count": 55,
   "metadata": {},
   "outputs": [
    {
     "data": {
      "image/png": "[encoded data removed]",
      "text/plain": [
       "<Figure size 640x480 with 1 Axes>"
      ]
     },
     "metadata": {},
     "output_type": "display_data"
    }
   ],
   "source": [
    "data[(data['tr002_type_batiment_description']==\"Logement\")]['consommation_energie'].plot.box()\n",
    "Q1=data[(data['tr002_type_batiment_description']==\"Logement\")]['consommation_energie'].quantile(0.25)\n",
    "Q3=data[(data['tr002_type_batiment_description']==\"Logement\")]['consommation_energie'].quantile(0.75)\n",
    "IQR=Q3-Q1\n",
    "coef=IQR*1.5\n",
    "limite_inf=Q1-coef\n",
    "limite_sup=Q3+coef\n",
    "result=data[(data['consommation_energie']>limite_sup)|(data['consommation_energie']<limite_inf)]\n",
    "data_clean=data.drop(result.index)\n",
    "# data_clean['consommation_energie'].hist(bins=100)\n"
   ]
  },
  {
   "cell_type": "code",
   "execution_count": 71,
   "metadata": {},
   "outputs": [
    {
     "name": "stdout",
     "output_type": "stream",
     "text": [
      "Logement: 268.29783444816053 kWhEP/m².an \n",
      "Logement: 36.77678093645485 Kg eqCO2/m².an \n",
      "Maison Individuelle: 261.4205771111836 kWhEP/m².an \n",
      "Maison Individuelle: 35.51785784153896 Kg eqCO2/m².an \n",
      "Bâtiment collectif à usage principal d'habitation: 330.5564516129032 kWhEP/m².an \n",
      "Bâtiment collectif à usage principal d'habitation: 41.20516129032258 Kg eqCO2/m².an \n"
     ]
    }
   ],
   "source": [
    "\n",
    "\n",
    "for elem in data['tr002_type_batiment_description'].unique().tolist(): \n",
    "    data_sorted= data[data['tr002_type_batiment_description']==elem]\n",
    "    print(f\"{elem}: {np.mean(data_sorted['consommation_energie'])} kWhEP/m².an \")\n",
    "    print(f\"{elem}: {np.mean(data_sorted['estimation_ges'])} Kg eqCO2/m².an \")\n",
    "\n"
   ]
  }
 ],
 "metadata": {
  "kernelspec": {
   "display_name": "env",
   "language": "python",
   "name": "python3"
  },
  "language_info": {
   "codemirror_mode": {
    "name": "ipython",
    "version": 3
   },
   "file_extension": ".py",
   "mimetype": "text/x-python",
   "name": "python",
   "nbconvert_exporter": "python",
   "pygments_lexer": "ipython3",
   "version": "3.9.7"
  },
  "orig_nbformat": 4
 },
 "nbformat": 4,
 "nbformat_minor": 2
}
